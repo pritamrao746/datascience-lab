{
 "cells": [
  {
   "cell_type": "markdown",
   "id": "9bf7ef9a",
   "metadata": {
    "papermill": {
     "duration": 0.036114,
     "end_time": "2022-04-27T18:55:31.001138",
     "exception": false,
     "start_time": "2022-04-27T18:55:30.965024",
     "status": "completed"
    },
    "tags": []
   },
   "source": [
    "## Aim:\n",
    "Perform statistical data analysis such as: Estimators of the main statistical measures (mean, variance, standard deviation, covariance correlation, standard error), Main distributions ( Normal distribution, chi-square distribution), Hypothesis testing, pair-wise association (Pearson correlation test, t-test, ANOVA), Non-parametric test (Spearman rank0 etc"
   ]
  },
  {
   "cell_type": "code",
   "execution_count": 1,
   "id": "de78004b",
   "metadata": {
    "execution": {
     "iopub.execute_input": "2022-04-27T18:55:31.072829Z",
     "iopub.status.busy": "2022-04-27T18:55:31.072275Z",
     "iopub.status.idle": "2022-04-27T18:55:32.354200Z",
     "shell.execute_reply": "2022-04-27T18:55:32.353655Z"
    },
    "papermill": {
     "duration": 1.320414,
     "end_time": "2022-04-27T18:55:32.356573",
     "exception": false,
     "start_time": "2022-04-27T18:55:31.036159",
     "status": "completed"
    },
    "tags": []
   },
   "outputs": [],
   "source": [
    "import pandas as pd\n",
    "import numpy as np\n",
    "import matplotlib.pyplot as plt\n",
    "import seaborn as sns\n",
    "import warnings\n",
    "import scipy.stats as stats\n",
    "warnings.filterwarnings('ignore')\n",
    "%matplotlib inline"
   ]
  },
  {
   "cell_type": "markdown",
   "id": "f65fe2c4",
   "metadata": {
    "papermill": {
     "duration": 0.034623,
     "end_time": "2022-04-27T18:55:32.426760",
     "exception": false,
     "start_time": "2022-04-27T18:55:32.392137",
     "status": "completed"
    },
    "tags": []
   },
   "source": [
    "## Dataset Description : Insurance Cost Dataset \n",
    "\n",
    "- age: age of primary beneficiary\n",
    "\n",
    "- sex: insurance contractor gender, female, male\n",
    "\n",
    "- bmi: Body mass index, providing an understanding of body, weights that are relatively high or low relative to height,\n",
    "objective index of body weight (kg / m ^ 2) using the ratio of height to weight, ideally 18.5 to 24.9\n",
    "- children: Number of children covered by health insurance / Number of dependents\n",
    "\n",
    "- smoker: Smoking\n",
    "\n",
    "- region: the beneficiary's residential area in the US, northeast, southeast, southwest, northwest.\n",
    "\n",
    "- charges: Individual medical costs billed by health insurance"
   ]
  },
  {
   "cell_type": "code",
   "execution_count": 2,
   "id": "2b1e8412",
   "metadata": {
    "execution": {
     "iopub.execute_input": "2022-04-27T18:55:32.499308Z",
     "iopub.status.busy": "2022-04-27T18:55:32.498795Z",
     "iopub.status.idle": "2022-04-27T18:55:32.541180Z",
     "shell.execute_reply": "2022-04-27T18:55:32.540617Z"
    },
    "papermill": {
     "duration": 0.082207,
     "end_time": "2022-04-27T18:55:32.543604",
     "exception": false,
     "start_time": "2022-04-27T18:55:32.461397",
     "status": "completed"
    },
    "tags": []
   },
   "outputs": [
    {
     "data": {
      "text/html": [
       "<div>\n",
       "<style scoped>\n",
       "    .dataframe tbody tr th:only-of-type {\n",
       "        vertical-align: middle;\n",
       "    }\n",
       "\n",
       "    .dataframe tbody tr th {\n",
       "        vertical-align: top;\n",
       "    }\n",
       "\n",
       "    .dataframe thead th {\n",
       "        text-align: right;\n",
       "    }\n",
       "</style>\n",
       "<table border=\"1\" class=\"dataframe\">\n",
       "  <thead>\n",
       "    <tr style=\"text-align: right;\">\n",
       "      <th></th>\n",
       "      <th>age</th>\n",
       "      <th>sex</th>\n",
       "      <th>bmi</th>\n",
       "      <th>children</th>\n",
       "      <th>smoker</th>\n",
       "      <th>region</th>\n",
       "      <th>charges</th>\n",
       "    </tr>\n",
       "  </thead>\n",
       "  <tbody>\n",
       "    <tr>\n",
       "      <th>0</th>\n",
       "      <td>19</td>\n",
       "      <td>female</td>\n",
       "      <td>27.900</td>\n",
       "      <td>0</td>\n",
       "      <td>yes</td>\n",
       "      <td>southwest</td>\n",
       "      <td>16884.92400</td>\n",
       "    </tr>\n",
       "    <tr>\n",
       "      <th>1</th>\n",
       "      <td>18</td>\n",
       "      <td>male</td>\n",
       "      <td>33.770</td>\n",
       "      <td>1</td>\n",
       "      <td>no</td>\n",
       "      <td>southeast</td>\n",
       "      <td>1725.55230</td>\n",
       "    </tr>\n",
       "    <tr>\n",
       "      <th>2</th>\n",
       "      <td>28</td>\n",
       "      <td>male</td>\n",
       "      <td>33.000</td>\n",
       "      <td>3</td>\n",
       "      <td>no</td>\n",
       "      <td>southeast</td>\n",
       "      <td>4449.46200</td>\n",
       "    </tr>\n",
       "    <tr>\n",
       "      <th>3</th>\n",
       "      <td>33</td>\n",
       "      <td>male</td>\n",
       "      <td>22.705</td>\n",
       "      <td>0</td>\n",
       "      <td>no</td>\n",
       "      <td>northwest</td>\n",
       "      <td>21984.47061</td>\n",
       "    </tr>\n",
       "    <tr>\n",
       "      <th>4</th>\n",
       "      <td>32</td>\n",
       "      <td>male</td>\n",
       "      <td>28.880</td>\n",
       "      <td>0</td>\n",
       "      <td>no</td>\n",
       "      <td>northwest</td>\n",
       "      <td>3866.85520</td>\n",
       "    </tr>\n",
       "  </tbody>\n",
       "</table>\n",
       "</div>"
      ],
      "text/plain": [
       "   age     sex     bmi  children smoker     region      charges\n",
       "0   19  female  27.900         0    yes  southwest  16884.92400\n",
       "1   18    male  33.770         1     no  southeast   1725.55230\n",
       "2   28    male  33.000         3     no  southeast   4449.46200\n",
       "3   33    male  22.705         0     no  northwest  21984.47061\n",
       "4   32    male  28.880         0     no  northwest   3866.85520"
      ]
     },
     "execution_count": 2,
     "metadata": {},
     "output_type": "execute_result"
    }
   ],
   "source": [
    "df = pd.read_csv(\"../input/insurance/insurance.csv\")\n",
    "df.head()"
   ]
  },
  {
   "cell_type": "code",
   "execution_count": 3,
   "id": "958a3c14",
   "metadata": {
    "execution": {
     "iopub.execute_input": "2022-04-27T18:55:32.616523Z",
     "iopub.status.busy": "2022-04-27T18:55:32.616063Z",
     "iopub.status.idle": "2022-04-27T18:55:32.643367Z",
     "shell.execute_reply": "2022-04-27T18:55:32.642624Z"
    },
    "papermill": {
     "duration": 0.06607,
     "end_time": "2022-04-27T18:55:32.645317",
     "exception": false,
     "start_time": "2022-04-27T18:55:32.579247",
     "status": "completed"
    },
    "tags": []
   },
   "outputs": [
    {
     "name": "stdout",
     "output_type": "stream",
     "text": [
      "<class 'pandas.core.frame.DataFrame'>\n",
      "RangeIndex: 1338 entries, 0 to 1337\n",
      "Data columns (total 7 columns):\n",
      " #   Column    Non-Null Count  Dtype  \n",
      "---  ------    --------------  -----  \n",
      " 0   age       1338 non-null   int64  \n",
      " 1   sex       1338 non-null   object \n",
      " 2   bmi       1338 non-null   float64\n",
      " 3   children  1338 non-null   int64  \n",
      " 4   smoker    1338 non-null   object \n",
      " 5   region    1338 non-null   object \n",
      " 6   charges   1338 non-null   float64\n",
      "dtypes: float64(2), int64(2), object(3)\n",
      "memory usage: 73.3+ KB\n"
     ]
    }
   ],
   "source": [
    "df.info()"
   ]
  },
  {
   "cell_type": "markdown",
   "id": "63a8b827",
   "metadata": {
    "execution": {
     "iopub.execute_input": "2022-04-27T17:02:08.762121Z",
     "iopub.status.busy": "2022-04-27T17:02:08.761853Z",
     "iopub.status.idle": "2022-04-27T17:02:08.766958Z",
     "shell.execute_reply": "2022-04-27T17:02:08.766143Z",
     "shell.execute_reply.started": "2022-04-27T17:02:08.762092Z"
    },
    "papermill": {
     "duration": 0.035496,
     "end_time": "2022-04-27T18:55:32.717421",
     "exception": false,
     "start_time": "2022-04-27T18:55:32.681925",
     "status": "completed"
    },
    "tags": []
   },
   "source": [
    "## Descriptive Statistics\n",
    "Lets briefly understand our numerical variables using Amount and Frequency Statistics"
   ]
  },
  {
   "cell_type": "code",
   "execution_count": 4,
   "id": "ea51b440",
   "metadata": {
    "execution": {
     "iopub.execute_input": "2022-04-27T18:55:32.792471Z",
     "iopub.status.busy": "2022-04-27T18:55:32.792205Z",
     "iopub.status.idle": "2022-04-27T18:55:32.800540Z",
     "shell.execute_reply": "2022-04-27T18:55:32.799866Z"
    },
    "papermill": {
     "duration": 0.050063,
     "end_time": "2022-04-27T18:55:32.803232",
     "exception": false,
     "start_time": "2022-04-27T18:55:32.753169",
     "status": "completed"
    },
    "tags": []
   },
   "outputs": [
    {
     "data": {
      "text/plain": [
       "age         1338\n",
       "sex         1338\n",
       "bmi         1338\n",
       "children    1338\n",
       "smoker      1338\n",
       "region      1338\n",
       "charges     1338\n",
       "dtype: int64"
      ]
     },
     "execution_count": 4,
     "metadata": {},
     "output_type": "execute_result"
    }
   ],
   "source": [
    "## Total Datapoints\n",
    "df.count()"
   ]
  },
  {
   "cell_type": "code",
   "execution_count": 5,
   "id": "1d225469",
   "metadata": {
    "execution": {
     "iopub.execute_input": "2022-04-27T18:55:32.878237Z",
     "iopub.status.busy": "2022-04-27T18:55:32.877754Z",
     "iopub.status.idle": "2022-04-27T18:55:32.887168Z",
     "shell.execute_reply": "2022-04-27T18:55:32.886619Z"
    },
    "papermill": {
     "duration": 0.049355,
     "end_time": "2022-04-27T18:55:32.889002",
     "exception": false,
     "start_time": "2022-04-27T18:55:32.839647",
     "status": "completed"
    },
    "tags": []
   },
   "outputs": [
    {
     "data": {
      "text/plain": [
       "age            39.207025\n",
       "bmi            30.663397\n",
       "children        1.094918\n",
       "charges     13270.422265\n",
       "dtype: float64"
      ]
     },
     "execution_count": 5,
     "metadata": {},
     "output_type": "execute_result"
    }
   ],
   "source": [
    "## Central Tendency Statistics \n",
    "# mean\n",
    "df.mean()"
   ]
  },
  {
   "cell_type": "code",
   "execution_count": 6,
   "id": "1196f08d",
   "metadata": {
    "execution": {
     "iopub.execute_input": "2022-04-27T18:55:32.965485Z",
     "iopub.status.busy": "2022-04-27T18:55:32.964971Z",
     "iopub.status.idle": "2022-04-27T18:55:32.977134Z",
     "shell.execute_reply": "2022-04-27T18:55:32.976089Z"
    },
    "papermill": {
     "duration": 0.052524,
     "end_time": "2022-04-27T18:55:32.978920",
     "exception": false,
     "start_time": "2022-04-27T18:55:32.926396",
     "status": "completed"
    },
    "tags": []
   },
   "outputs": [
    {
     "data": {
      "text/plain": [
       "age           39.000\n",
       "bmi           30.400\n",
       "children       1.000\n",
       "charges     9382.033\n",
       "dtype: float64"
      ]
     },
     "execution_count": 6,
     "metadata": {},
     "output_type": "execute_result"
    }
   ],
   "source": [
    "## median\n",
    "df.median()\n",
    "\n",
    "## Mean and median are same for age and bmi but charges are different that means there are outlier and skewness"
   ]
  },
  {
   "cell_type": "code",
   "execution_count": 7,
   "id": "a14b7ae3",
   "metadata": {
    "execution": {
     "iopub.execute_input": "2022-04-27T18:55:33.057201Z",
     "iopub.status.busy": "2022-04-27T18:55:33.056794Z",
     "iopub.status.idle": "2022-04-27T18:55:33.062847Z",
     "shell.execute_reply": "2022-04-27T18:55:33.062267Z"
    },
    "papermill": {
     "duration": 0.048081,
     "end_time": "2022-04-27T18:55:33.065061",
     "exception": false,
     "start_time": "2022-04-27T18:55:33.016980",
     "status": "completed"
    },
    "tags": []
   },
   "outputs": [
    {
     "data": {
      "text/plain": [
       "age                18\n",
       "sex            female\n",
       "bmi             15.96\n",
       "children            0\n",
       "smoker             no\n",
       "region      northeast\n",
       "charges     1121.8739\n",
       "dtype: object"
      ]
     },
     "execution_count": 7,
     "metadata": {},
     "output_type": "execute_result"
    }
   ],
   "source": [
    "## Dispersion Statistics\n",
    "df.min()"
   ]
  },
  {
   "cell_type": "code",
   "execution_count": 8,
   "id": "eda0e2da",
   "metadata": {
    "execution": {
     "iopub.execute_input": "2022-04-27T18:55:33.144260Z",
     "iopub.status.busy": "2022-04-27T18:55:33.143824Z",
     "iopub.status.idle": "2022-04-27T18:55:33.152665Z",
     "shell.execute_reply": "2022-04-27T18:55:33.151903Z"
    },
    "papermill": {
     "duration": 0.051003,
     "end_time": "2022-04-27T18:55:33.155070",
     "exception": false,
     "start_time": "2022-04-27T18:55:33.104067",
     "status": "completed"
    },
    "tags": []
   },
   "outputs": [
    {
     "data": {
      "text/plain": [
       "age                  64\n",
       "sex                male\n",
       "bmi               53.13\n",
       "children              5\n",
       "smoker              yes\n",
       "region        southwest\n",
       "charges     63770.42801\n",
       "dtype: object"
      ]
     },
     "execution_count": 8,
     "metadata": {},
     "output_type": "execute_result"
    }
   ],
   "source": [
    "df.max()"
   ]
  },
  {
   "cell_type": "code",
   "execution_count": 9,
   "id": "aad762b0",
   "metadata": {
    "execution": {
     "iopub.execute_input": "2022-04-27T18:55:33.233843Z",
     "iopub.status.busy": "2022-04-27T18:55:33.233578Z",
     "iopub.status.idle": "2022-04-27T18:55:33.241026Z",
     "shell.execute_reply": "2022-04-27T18:55:33.240196Z"
    },
    "papermill": {
     "duration": 0.048969,
     "end_time": "2022-04-27T18:55:33.242748",
     "exception": false,
     "start_time": "2022-04-27T18:55:33.193779",
     "status": "completed"
    },
    "tags": []
   },
   "outputs": [
    {
     "data": {
      "text/plain": [
       "age         1.974014e+02\n",
       "bmi         3.718788e+01\n",
       "children    1.453213e+00\n",
       "charges     1.466524e+08\n",
       "dtype: float64"
      ]
     },
     "execution_count": 9,
     "metadata": {},
     "output_type": "execute_result"
    }
   ],
   "source": [
    "df.var()"
   ]
  },
  {
   "cell_type": "code",
   "execution_count": 10,
   "id": "76e29824",
   "metadata": {
    "execution": {
     "iopub.execute_input": "2022-04-27T18:55:33.323066Z",
     "iopub.status.busy": "2022-04-27T18:55:33.322700Z",
     "iopub.status.idle": "2022-04-27T18:55:33.329453Z",
     "shell.execute_reply": "2022-04-27T18:55:33.328733Z"
    },
    "papermill": {
     "duration": 0.049802,
     "end_time": "2022-04-27T18:55:33.331415",
     "exception": false,
     "start_time": "2022-04-27T18:55:33.281613",
     "status": "completed"
    },
    "tags": []
   },
   "outputs": [
    {
     "data": {
      "text/plain": [
       "age            14.049960\n",
       "bmi             6.098187\n",
       "children        1.205493\n",
       "charges     12110.011237\n",
       "dtype: float64"
      ]
     },
     "execution_count": 10,
     "metadata": {},
     "output_type": "execute_result"
    }
   ],
   "source": [
    "df.std()"
   ]
  },
  {
   "cell_type": "code",
   "execution_count": 11,
   "id": "04580a51",
   "metadata": {
    "execution": {
     "iopub.execute_input": "2022-04-27T18:55:33.412282Z",
     "iopub.status.busy": "2022-04-27T18:55:33.411851Z",
     "iopub.status.idle": "2022-04-27T18:55:33.436311Z",
     "shell.execute_reply": "2022-04-27T18:55:33.435630Z"
    },
    "papermill": {
     "duration": 0.067405,
     "end_time": "2022-04-27T18:55:33.438550",
     "exception": false,
     "start_time": "2022-04-27T18:55:33.371145",
     "status": "completed"
    },
    "tags": []
   },
   "outputs": [
    {
     "data": {
      "text/html": [
       "<div>\n",
       "<style scoped>\n",
       "    .dataframe tbody tr th:only-of-type {\n",
       "        vertical-align: middle;\n",
       "    }\n",
       "\n",
       "    .dataframe tbody tr th {\n",
       "        vertical-align: top;\n",
       "    }\n",
       "\n",
       "    .dataframe thead th {\n",
       "        text-align: right;\n",
       "    }\n",
       "</style>\n",
       "<table border=\"1\" class=\"dataframe\">\n",
       "  <thead>\n",
       "    <tr style=\"text-align: right;\">\n",
       "      <th></th>\n",
       "      <th>age</th>\n",
       "      <th>bmi</th>\n",
       "      <th>children</th>\n",
       "      <th>charges</th>\n",
       "    </tr>\n",
       "  </thead>\n",
       "  <tbody>\n",
       "    <tr>\n",
       "      <th>count</th>\n",
       "      <td>1338.000000</td>\n",
       "      <td>1338.000000</td>\n",
       "      <td>1338.000000</td>\n",
       "      <td>1338.000000</td>\n",
       "    </tr>\n",
       "    <tr>\n",
       "      <th>mean</th>\n",
       "      <td>39.207025</td>\n",
       "      <td>30.663397</td>\n",
       "      <td>1.094918</td>\n",
       "      <td>13270.422265</td>\n",
       "    </tr>\n",
       "    <tr>\n",
       "      <th>std</th>\n",
       "      <td>14.049960</td>\n",
       "      <td>6.098187</td>\n",
       "      <td>1.205493</td>\n",
       "      <td>12110.011237</td>\n",
       "    </tr>\n",
       "    <tr>\n",
       "      <th>min</th>\n",
       "      <td>18.000000</td>\n",
       "      <td>15.960000</td>\n",
       "      <td>0.000000</td>\n",
       "      <td>1121.873900</td>\n",
       "    </tr>\n",
       "    <tr>\n",
       "      <th>25%</th>\n",
       "      <td>27.000000</td>\n",
       "      <td>26.296250</td>\n",
       "      <td>0.000000</td>\n",
       "      <td>4740.287150</td>\n",
       "    </tr>\n",
       "    <tr>\n",
       "      <th>50%</th>\n",
       "      <td>39.000000</td>\n",
       "      <td>30.400000</td>\n",
       "      <td>1.000000</td>\n",
       "      <td>9382.033000</td>\n",
       "    </tr>\n",
       "    <tr>\n",
       "      <th>75%</th>\n",
       "      <td>51.000000</td>\n",
       "      <td>34.693750</td>\n",
       "      <td>2.000000</td>\n",
       "      <td>16639.912515</td>\n",
       "    </tr>\n",
       "    <tr>\n",
       "      <th>max</th>\n",
       "      <td>64.000000</td>\n",
       "      <td>53.130000</td>\n",
       "      <td>5.000000</td>\n",
       "      <td>63770.428010</td>\n",
       "    </tr>\n",
       "  </tbody>\n",
       "</table>\n",
       "</div>"
      ],
      "text/plain": [
       "               age          bmi     children       charges\n",
       "count  1338.000000  1338.000000  1338.000000   1338.000000\n",
       "mean     39.207025    30.663397     1.094918  13270.422265\n",
       "std      14.049960     6.098187     1.205493  12110.011237\n",
       "min      18.000000    15.960000     0.000000   1121.873900\n",
       "25%      27.000000    26.296250     0.000000   4740.287150\n",
       "50%      39.000000    30.400000     1.000000   9382.033000\n",
       "75%      51.000000    34.693750     2.000000  16639.912515\n",
       "max      64.000000    53.130000     5.000000  63770.428010"
      ]
     },
     "execution_count": 11,
     "metadata": {},
     "output_type": "execute_result"
    }
   ],
   "source": [
    "df.describe()"
   ]
  },
  {
   "cell_type": "code",
   "execution_count": 12,
   "id": "db02590c",
   "metadata": {
    "execution": {
     "iopub.execute_input": "2022-04-27T18:55:33.521010Z",
     "iopub.status.busy": "2022-04-27T18:55:33.520738Z",
     "iopub.status.idle": "2022-04-27T18:55:33.787602Z",
     "shell.execute_reply": "2022-04-27T18:55:33.786457Z"
    },
    "papermill": {
     "duration": 0.311476,
     "end_time": "2022-04-27T18:55:33.789942",
     "exception": false,
     "start_time": "2022-04-27T18:55:33.478466",
     "status": "completed"
    },
    "tags": []
   },
   "outputs": [
    {
     "data": {
      "image/png": "[encoded data removed]",
      "text/plain": [
       "<Figure size 720x576 with 2 Axes>"
      ]
     },
     "metadata": {
      "needs_background": "light"
     },
     "output_type": "display_data"
    }
   ],
   "source": [
    "## Correation of Data\n",
    "\n",
    "correlation_data = df.corr()\n",
    "plt.subplots(figsize=(10,8))\n",
    "sns.heatmap(correlation_data, annot=True)\n",
    "plt.show()"
   ]
  },
  {
   "cell_type": "code",
   "execution_count": 13,
   "id": "2bfb60a3",
   "metadata": {
    "execution": {
     "iopub.execute_input": "2022-04-27T18:55:33.874804Z",
     "iopub.status.busy": "2022-04-27T18:55:33.874496Z",
     "iopub.status.idle": "2022-04-27T18:55:34.802041Z",
     "shell.execute_reply": "2022-04-27T18:55:34.800722Z"
    },
    "papermill": {
     "duration": 0.97214,
     "end_time": "2022-04-27T18:55:34.804074",
     "exception": false,
     "start_time": "2022-04-27T18:55:33.831934",
     "status": "completed"
    },
    "tags": []
   },
   "outputs": [
    {
     "data": {
      "image/png": "[encoded data removed]",
      "text/plain": [
       "<Figure size 1080x1080 with 4 Axes>"
      ]
     },
     "metadata": {
      "needs_background": "light"
     },
     "output_type": "display_data"
    }
   ],
   "source": [
    "## Visual Checks\n",
    "\n",
    "plt.figure(figsize=(15,15))\n",
    "col = ['age', 'bmi', 'children','charges']\n",
    "for i in range(0,len(col)):\n",
    "    plt.subplot(len(col)//2+1,2,i+1)\n",
    "    sns.distplot(df[col[i]]);\n",
    "    plt.xlabel(col[i])"
   ]
  },
  {
   "cell_type": "markdown",
   "id": "5a4e1bbe",
   "metadata": {
    "execution": {
     "iopub.execute_input": "2022-04-27T17:14:38.722146Z",
     "iopub.status.busy": "2022-04-27T17:14:38.721880Z",
     "iopub.status.idle": "2022-04-27T17:14:38.728444Z",
     "shell.execute_reply": "2022-04-27T17:14:38.727685Z",
     "shell.execute_reply.started": "2022-04-27T17:14:38.722118Z"
    },
    "papermill": {
     "duration": 0.042185,
     "end_time": "2022-04-27T18:55:34.889060",
     "exception": false,
     "start_time": "2022-04-27T18:55:34.846875",
     "status": "completed"
    },
    "tags": []
   },
   "source": [
    "## Inference\n",
    "- BMI is normally distributed\n",
    "- Children discrete value\n",
    "- Charges as infered above is not normal with outiers and skewed"
   ]
  },
  {
   "cell_type": "markdown",
   "id": "d1fa8a29",
   "metadata": {
    "papermill": {
     "duration": 0.042372,
     "end_time": "2022-04-27T18:55:34.974354",
     "exception": false,
     "start_time": "2022-04-27T18:55:34.931982",
     "status": "completed"
    },
    "tags": []
   },
   "source": [
    "## Normality Test through statistics\n",
    "### Shapiro Wilk test\n",
    "\n",
    "- The Shapiro Wilk test is the most powerful test when testing for a normal distribution. It has been developed specifically for the normal distribution and it cannot be used for testing against other distributions like for example the KS test. The Shapiro Wilk test is the most powerful test when testing for a normal distribution.\n",
    "- Interpretation\n",
    "  - If the P-Value of the Shapiro Wilk Test is larger than 0.05, we assume a normal distribution\n",
    "  - If the P-Value of the Shapiro Wilk Test is smaller than 0.05, we do not assume a normal distribution\n",
    "  \n",
    " <br> \n",
    "- Null Hypothesis : Data is normally distributes\n",
    "- Alternate Hypotheisis : Data is not normally distributed"
   ]
  },
  {
   "cell_type": "code",
   "execution_count": 14,
   "id": "a7f5c36d",
   "metadata": {
    "execution": {
     "iopub.execute_input": "2022-04-27T18:55:35.061944Z",
     "iopub.status.busy": "2022-04-27T18:55:35.061679Z",
     "iopub.status.idle": "2022-04-27T18:55:35.067428Z",
     "shell.execute_reply": "2022-04-27T18:55:35.066839Z"
    },
    "papermill": {
     "duration": 0.051927,
     "end_time": "2022-04-27T18:55:35.069028",
     "exception": false,
     "start_time": "2022-04-27T18:55:35.017101",
     "status": "completed"
    },
    "tags": []
   },
   "outputs": [],
   "source": [
    "def shapiro_wilk_test(df: pd.DataFrame, cols: list, alpha=0.05):\n",
    "    for col in cols:\n",
    "        _,p = stats.shapiro(df[col])\n",
    "        if p <= alpha:\n",
    "            print(f\"\\nRejected H0 under significance level {alpha}\\n{col} doesn't seems to be normally distributed with pvalue = {p}\")\n",
    "        else:\n",
    "            print(f\"\\nFail to reject H0 due to lack of evidence under significance level {alpha}\\n{col} seem to be normally distributed with pvalue = {p}\")"
   ]
  },
  {
   "cell_type": "code",
   "execution_count": 15,
   "id": "0c580eb6",
   "metadata": {
    "execution": {
     "iopub.execute_input": "2022-04-27T18:55:35.155668Z",
     "iopub.status.busy": "2022-04-27T18:55:35.155218Z",
     "iopub.status.idle": "2022-04-27T18:55:35.160869Z",
     "shell.execute_reply": "2022-04-27T18:55:35.160280Z"
    },
    "papermill": {
     "duration": 0.051904,
     "end_time": "2022-04-27T18:55:35.163399",
     "exception": false,
     "start_time": "2022-04-27T18:55:35.111495",
     "status": "completed"
    },
    "tags": []
   },
   "outputs": [
    {
     "name": "stdout",
     "output_type": "stream",
     "text": [
      "\n",
      "Rejected H0 under significance level 0.05\n",
      "age doesn't seems to be normally distributed with pvalue = 5.687479624670986e-22\n",
      "\n",
      "Rejected H0 under significance level 0.05\n",
      "bmi doesn't seems to be normally distributed with pvalue = 2.609841976664029e-05\n",
      "\n",
      "Rejected H0 under significance level 0.05\n",
      "children doesn't seems to be normally distributed with pvalue = 5.066361280494088e-36\n",
      "\n",
      "Rejected H0 under significance level 0.05\n",
      "charges doesn't seems to be normally distributed with pvalue = 1.150477698013898e-36\n"
     ]
    }
   ],
   "source": [
    "numerical_cols =  ['age', 'bmi', 'children','charges']\n",
    "shapiro_wilk_test(df, numerical_cols)"
   ]
  },
  {
   "cell_type": "markdown",
   "id": "40a30d64",
   "metadata": {
    "papermill": {
     "duration": 0.043197,
     "end_time": "2022-04-27T18:55:35.250936",
     "exception": false,
     "start_time": "2022-04-27T18:55:35.207739",
     "status": "completed"
    },
    "tags": []
   },
   "source": [
    "## Normlity Check using qqplot\n",
    "- A Q-Q plot, short for “quantile-quantile” plot, is used to assess whether or not a set of data potentially came from some theoretical distribution.\n",
    "\n",
    "- In most cases, this type of plot is used to determine whether or not a set of data follows a normal distribution. If the data is normally distributed, the points in a Q-Q plot will lie on a straight diagonal line. Conversely, the more the points in the plot deviate significantly from a straight diagonal line, the less likely the set of data follows a normal distribution.\n",
    "\n"
   ]
  },
  {
   "cell_type": "code",
   "execution_count": 16,
   "id": "fa57382a",
   "metadata": {
    "execution": {
     "iopub.execute_input": "2022-04-27T18:55:35.340314Z",
     "iopub.status.busy": "2022-04-27T18:55:35.339840Z",
     "iopub.status.idle": "2022-04-27T18:55:35.795730Z",
     "shell.execute_reply": "2022-04-27T18:55:35.794464Z"
    },
    "papermill": {
     "duration": 0.503552,
     "end_time": "2022-04-27T18:55:35.797855",
     "exception": false,
     "start_time": "2022-04-27T18:55:35.294303",
     "status": "completed"
    },
    "tags": []
   },
   "outputs": [
    {
     "data": {
      "image/png": "[encoded data removed]",
      "text/plain": [
       "<Figure size 720x288 with 2 Axes>"
      ]
     },
     "metadata": {
      "needs_background": "light"
     },
     "output_type": "display_data"
    }
   ],
   "source": [
    "from statsmodels.graphics.gofplots import qqplot\n",
    "\n",
    "fig = plt.figure(1, (10, 4))\n",
    "\n",
    "ax = plt.subplot(1,2,1)\n",
    "qqplot(df[\"bmi\"], line= 's',ax=ax);\n",
    "plt.tight_layout()\n",
    "\n",
    "ax = plt.subplot(1,2,2)\n",
    "qqplot(df[\"charges\"], line= 's',ax=ax);\n",
    "plt.tight_layout()\n",
    "\n",
    "plt.show();\n",
    "\n",
    "\n",
    "## From this we can infer that bmi is normal and charge is not but the tail is why SW is rejecting null hypothesis"
   ]
  },
  {
   "cell_type": "markdown",
   "id": "577ff042",
   "metadata": {
    "execution": {
     "iopub.execute_input": "2022-04-27T18:24:01.170318Z",
     "iopub.status.busy": "2022-04-27T18:24:01.170043Z",
     "iopub.status.idle": "2022-04-27T18:24:01.176046Z",
     "shell.execute_reply": "2022-04-27T18:24:01.174893Z",
     "shell.execute_reply.started": "2022-04-27T18:24:01.170287Z"
    },
    "papermill": {
     "duration": 0.030187,
     "end_time": "2022-04-27T18:55:35.859379",
     "exception": false,
     "start_time": "2022-04-27T18:55:35.829192",
     "status": "completed"
    },
    "tags": []
   },
   "source": [
    "## Hypothesis Testing \n",
    "- **To check if the insurance cost of smoker is greater than a non smoker**\n",
    "\n",
    "### Step 1: Define null and alternative hypothesis\n",
    "\n",
    "H0: insurance cost of smoker is greater as than a non smoker\n",
    "\n",
    "Ha: insurance cost of smoker is not greater than a non smoker\n",
    "\n",
    "### Step 2: Decide the significance level: α = 0.05\n",
    "\n",
    "### Step 3: Identify the test: z - test\n",
    "\n",
    "The z-test is a hypothesis test in which the z-statistic follows a normal distribution. The z-test is best used for greater-than-30 samples because, under the central limit theorem, as the number of samples gets larger, the samples are considered to be approximately normally distributed.\n",
    "\n",
    "A z-test is a statistical test to determine whether two population means are different when the variances are known and the sample size is large. A z-test is a hypothesis test in which the z-statistic follows a normal distribution. \n",
    "A z-statistic, or z-score, is a number representing the result from the z-test.\n",
    "Z-tests are closely related to t-tests, but t-tests are best performed when an experiment has a small sample size.\n",
    "Z-tests assume the standard deviation is known, while t-tests assume it is unknown.\n",
    "\n",
    "### Step 4: Calculate the test-statistics and p-value"
   ]
  },
  {
   "cell_type": "code",
   "execution_count": 17,
   "id": "0621913b",
   "metadata": {
    "execution": {
     "iopub.execute_input": "2022-04-27T18:55:35.921317Z",
     "iopub.status.busy": "2022-04-27T18:55:35.921050Z",
     "iopub.status.idle": "2022-04-27T18:55:35.928016Z",
     "shell.execute_reply": "2022-04-27T18:55:35.927476Z"
    },
    "papermill": {
     "duration": 0.040188,
     "end_time": "2022-04-27T18:55:35.929681",
     "exception": false,
     "start_time": "2022-04-27T18:55:35.889493",
     "status": "completed"
    },
    "tags": []
   },
   "outputs": [],
   "source": [
    "df_male = df[df['sex']=='male']\n",
    "df_female = df[df['sex']=='female']\n",
    "charges_female = (df_female.charges)\n",
    "charges_male = (df_male.charges)\n",
    "\n",
    "alpha = 0.05"
   ]
  },
  {
   "cell_type": "code",
   "execution_count": 18,
   "id": "dbbdc214",
   "metadata": {
    "execution": {
     "iopub.execute_input": "2022-04-27T18:55:36.021556Z",
     "iopub.status.busy": "2022-04-27T18:55:36.021258Z",
     "iopub.status.idle": "2022-04-27T18:55:36.662315Z",
     "shell.execute_reply": "2022-04-27T18:55:36.660760Z"
    },
    "papermill": {
     "duration": 0.690253,
     "end_time": "2022-04-27T18:55:36.664731",
     "exception": false,
     "start_time": "2022-04-27T18:55:35.974478",
     "status": "completed"
    },
    "tags": []
   },
   "outputs": [
    {
     "data": {
      "image/png": "[encoded data removed]",
      "text/plain": [
       "<Figure size 720x288 with 2 Axes>"
      ]
     },
     "metadata": {
      "needs_background": "light"
     },
     "output_type": "display_data"
    }
   ],
   "source": [
    "from statsmodels.graphics.gofplots import qqplot\n",
    "\n",
    "fig = plt.figure(1, (10, 4))\n",
    "\n",
    "ax = plt.subplot(1,2,1)\n",
    "sns.distplot(charges_male,ax=ax);\n",
    "plt.tight_layout()\n",
    "\n",
    "ax = plt.subplot(1,2,2)\n",
    "sns.distplot(charges_female,ax=ax);\n",
    "plt.tight_layout()\n",
    "\n",
    "plt.show();\n"
   ]
  },
  {
   "cell_type": "code",
   "execution_count": 19,
   "id": "496dd020",
   "metadata": {
    "execution": {
     "iopub.execute_input": "2022-04-27T18:55:36.759186Z",
     "iopub.status.busy": "2022-04-27T18:55:36.758875Z",
     "iopub.status.idle": "2022-04-27T18:55:37.005212Z",
     "shell.execute_reply": "2022-04-27T18:55:37.003803Z"
    },
    "papermill": {
     "duration": 0.296786,
     "end_time": "2022-04-27T18:55:37.007999",
     "exception": false,
     "start_time": "2022-04-27T18:55:36.711213",
     "status": "completed"
    },
    "tags": []
   },
   "outputs": [
    {
     "name": "stdout",
     "output_type": "stream",
     "text": [
      "Mean charges for Males = 13956.751177721893\n",
      "Mean charges for Females = 12569.578843835347\n"
     ]
    },
    {
     "data": {
      "image/png": "[encoded data removed]",
      "text/plain": [
       "<Figure size 576x576 with 1 Axes>"
      ]
     },
     "metadata": {
      "needs_background": "light"
     },
     "output_type": "display_data"
    }
   ],
   "source": [
    "plt.figure(figsize=(8,8))\n",
    "sns.distplot(charges_male, hist=False);\n",
    "sns.distplot(charges_female, hist=False, color='red');\n",
    "plt.axvline(charges_male.mean(),color='blue',linestyle='--',label='Mean for Males');\n",
    "plt.axvline(charges_female.mean(),color='red',linestyle='--',label='Mean for Females');\n",
    "plt.title('charges');\n",
    "plt.xlabel('charges');\n",
    "plt.legend();\n",
    "print('Mean charges for Males =',charges_male.mean())\n",
    "print('Mean charges for Females =',charges_female.mean())"
   ]
  },
  {
   "cell_type": "code",
   "execution_count": 20,
   "id": "1f1729ad",
   "metadata": {
    "execution": {
     "iopub.execute_input": "2022-04-27T18:55:37.077248Z",
     "iopub.status.busy": "2022-04-27T18:55:37.076941Z",
     "iopub.status.idle": "2022-04-27T18:55:37.087022Z",
     "shell.execute_reply": "2022-04-27T18:55:37.085894Z"
    },
    "papermill": {
     "duration": 0.046768,
     "end_time": "2022-04-27T18:55:37.089794",
     "exception": false,
     "start_time": "2022-04-27T18:55:37.043026",
     "status": "completed"
    },
    "tags": []
   },
   "outputs": [
    {
     "name": "stdout",
     "output_type": "stream",
     "text": [
      "0.03594521741682005\n",
      "Null hyphothesis rejected , insurance cost of smoker is not greater than a non smoker\n"
     ]
    }
   ],
   "source": [
    "from statsmodels.stats import weightstats as stests\n",
    "ztest ,p_value = stests.ztest(charges_male,charges_female)\n",
    "\n",
    "print(float(p_value))\n",
    "if p_value<alpha:\n",
    "    print(\"Null hyphothesis rejected , insurance cost of smoker is not greater than a non smoker\")\n",
    "else:\n",
    "    print(\"Null hyphothesis accepted , insurance cost of smoker is greater than a non smoker\")"
   ]
  },
  {
   "cell_type": "code",
   "execution_count": 21,
   "id": "611b5475",
   "metadata": {
    "execution": {
     "iopub.execute_input": "2022-04-27T18:55:37.189221Z",
     "iopub.status.busy": "2022-04-27T18:55:37.188949Z",
     "iopub.status.idle": "2022-04-27T18:55:37.197471Z",
     "shell.execute_reply": "2022-04-27T18:55:37.196196Z"
    },
    "papermill": {
     "duration": 0.061015,
     "end_time": "2022-04-27T18:55:37.199904",
     "exception": false,
     "start_time": "2022-04-27T18:55:37.138889",
     "status": "completed"
    },
    "tags": []
   },
   "outputs": [
    {
     "name": "stdout",
     "output_type": "stream",
     "text": [
      "0.03594521741682005\n",
      "Null hyphothesis accepted , insurance cost of smoker is greater than a non smoker\n"
     ]
    }
   ],
   "source": [
    "alpha = 0.025\n",
    "from statsmodels.stats import weightstats as stests\n",
    "ztest ,p_value = stests.ztest(charges_male,charges_female)\n",
    "\n",
    "print(float(p_value))\n",
    "if p_value<alpha:\n",
    "    print(\"Null hyphothesis rejected , insurance cost of smoker is not greater than a non smoker\")\n",
    "else:\n",
    "    print(\"Null hyphothesis accepted , insurance cost of smoker is greater than a non smoker\")"
   ]
  },
  {
   "cell_type": "code",
   "execution_count": 22,
   "id": "4fb888dd",
   "metadata": {
    "execution": {
     "iopub.execute_input": "2022-04-27T18:55:37.299445Z",
     "iopub.status.busy": "2022-04-27T18:55:37.299184Z",
     "iopub.status.idle": "2022-04-27T18:55:37.958376Z",
     "shell.execute_reply": "2022-04-27T18:55:37.957022Z"
    },
    "papermill": {
     "duration": 0.712595,
     "end_time": "2022-04-27T18:55:37.961245",
     "exception": false,
     "start_time": "2022-04-27T18:55:37.248650",
     "status": "completed"
    },
    "tags": []
   },
   "outputs": [
    {
     "data": {
      "image/png": "[encoded data removed]",
      "text/plain": [
       "<Figure size 720x288 with 2 Axes>"
      ]
     },
     "metadata": {
      "needs_background": "light"
     },
     "output_type": "display_data"
    },
    {
     "name": "stdout",
     "output_type": "stream",
     "text": [
      "Mean charges for Males = 9.103781557913017\n",
      "Mean charges for Females = 9.093427563173927\n"
     ]
    },
    {
     "data": {
      "image/png": "[encoded data removed]",
      "text/plain": [
       "<Figure size 576x576 with 1 Axes>"
      ]
     },
     "metadata": {
      "needs_background": "light"
     },
     "output_type": "display_data"
    }
   ],
   "source": [
    "## Since normal distribution expectation lets run on log transform\n",
    "\n",
    "df_male = df[df['sex']=='male']\n",
    "df_female = df[df['sex']=='female']\n",
    "charges_female = np.log(df_female.charges)\n",
    "charges_male = np.log(df_male.charges)\n",
    "\n",
    "from statsmodels.graphics.gofplots import qqplot\n",
    "\n",
    "fig = plt.figure(1, (10, 4))\n",
    "\n",
    "ax = plt.subplot(1,2,1)\n",
    "sns.distplot(charges_male,ax=ax);\n",
    "plt.tight_layout()\n",
    "\n",
    "ax = plt.subplot(1,2,2)\n",
    "sns.distplot(charges_female,ax=ax);\n",
    "plt.tight_layout()\n",
    "\n",
    "plt.show();\n",
    "\n",
    "\n",
    "### Taking log for normal distribution approximation as charges is not normally distributed \n",
    "\n",
    "plt.figure(figsize=(8,8))\n",
    "sns.distplot(charges_male, hist=False);\n",
    "sns.distplot(charges_female, hist=False, color='red');\n",
    "plt.axvline(charges_male.mean(),color='blue',linestyle='--',label='Mean for Males');\n",
    "plt.axvline(charges_female.mean(),color='red',linestyle='--',label='Mean for Females');\n",
    "plt.title('charges');\n",
    "plt.xlabel('charges');\n",
    "plt.legend();\n",
    "print('Mean charges for Males =',charges_male.mean())\n",
    "print('Mean charges for Females =',charges_female.mean())\n"
   ]
  },
  {
   "cell_type": "code",
   "execution_count": 23,
   "id": "43320a1c",
   "metadata": {
    "execution": {
     "iopub.execute_input": "2022-04-27T18:55:38.069517Z",
     "iopub.status.busy": "2022-04-27T18:55:38.068480Z",
     "iopub.status.idle": "2022-04-27T18:55:38.076236Z",
     "shell.execute_reply": "2022-04-27T18:55:38.074751Z"
    },
    "papermill": {
     "duration": 0.064812,
     "end_time": "2022-04-27T18:55:38.079056",
     "exception": false,
     "start_time": "2022-04-27T18:55:38.014244",
     "status": "completed"
    },
    "tags": []
   },
   "outputs": [
    {
     "name": "stdout",
     "output_type": "stream",
     "text": [
      "0.8369039256742391\n",
      "Null hyphothesis accepted , insurance cost of smoker is greater than a non smoker\n"
     ]
    }
   ],
   "source": [
    "from statsmodels.stats import weightstats as stests\n",
    "ztest ,p_value = stests.ztest(charges_male,charges_female)\n",
    "\n",
    "alpha = 0.05\n",
    "\n",
    "print(float(p_value))\n",
    "if p_value<alpha:\n",
    "    print(\"Null hyphothesis rejected , insurance cost of smoker is not greater than a non smoker\")\n",
    "else:\n",
    "    print(\"Null hyphothesis accepted , insurance cost of smoker is greater than a non smoker\")"
   ]
  },
  {
   "cell_type": "markdown",
   "id": "f18f598a",
   "metadata": {
    "papermill": {
     "duration": 0.036259,
     "end_time": "2022-04-27T18:55:38.152237",
     "exception": false,
     "start_time": "2022-04-27T18:55:38.115978",
     "status": "completed"
    },
    "tags": []
   },
   "source": [
    "## Conclusion\n",
    "- I was able to check normality of data using shapiro wilk test which gave bmi as not normal distribution but was then verified visually using qqplot\n",
    "- I had a hypothesis which is kind of fact that the insurance cost of smoker is greater than a non smoker. I was able to accept this hypotheis after i ran z-test on it with a sigificance level of 5% and was able to verify it with the z-score and accepted the hpothesis as truth "
   ]
  }
 ],
 "metadata": {
  "kernelspec": {
   "display_name": "Python 3",
   "language": "python",
   "name": "python3"
  },
  "language_info": {
   "codemirror_mode": {
    "name": "ipython",
    "version": 3
   },
   "file_extension": ".py",
   "mimetype": "text/x-python",
   "name": "python",
   "nbconvert_exporter": "python",
   "pygments_lexer": "ipython3",
   "version": "3.7.12"
  },
  "papermill": {
   "default_parameters": {},
   "duration": 19.665363,
   "end_time": "2022-04-27T18:55:39.011839",
   "environment_variables": {},
   "exception": null,
   "input_path": "__notebook__.ipynb",
   "output_path": "__notebook__.ipynb",
   "parameters": {},
   "start_time": "2022-04-27T18:55:19.346476",
   "version": "2.3.4"
  }
 },
 "nbformat": 4,
 "nbformat_minor": 5
}

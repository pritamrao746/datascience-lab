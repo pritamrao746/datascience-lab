{
  "cells": [
    {
      "cell_type": "code",
      "execution_count": null,
      "metadata": {
        "id": "twWizOX-Zkhx"
      },
      "outputs": [],
      "source": [
        "import pandas as pd \n",
        "import numpy as np \n",
        "import matplotlib as mpl\n",
        "\n",
        "import matplotlib.pyplot as plt\n",
        "\n",
        "from sklearn.metrics import confusion_matrix"
      ]
    },
    {
      "cell_type": "code",
      "execution_count": null,
      "metadata": {
        "id": "d3AN86VtZ23P"
      },
      "outputs": [],
      "source": [
        "from sklearn.svm import SVC"
      ]
    },
    {
      "cell_type": "code",
      "execution_count": null,
      "metadata": {
        "id": "Gxe5PLdscfQ9"
      },
      "outputs": [],
      "source": [
        "from sklearn.metrics import confusion_matrix\n",
        "\n",
        "# Function to draw a nice plot of an SVM\n",
        "def plot_svc(svc, X, y, h=0.02, pad=0.25):\n",
        "    x_min, x_max = X[:, 0].min()-pad, X[:, 0].max()+pad\n",
        "    y_min, y_max = X[:, 1].min()-pad, X[:, 1].max()+pad\n",
        "\n",
        "    xx, yy = np.meshgrid(np.arange(x_min, x_max, h), np.arange(y_min, y_max,h))\n",
        "\n",
        "    Z = svc.predict(np.c_[xx.ravel(), yy.ravel()])\n",
        "\n",
        "    Z = Z.reshape(xx.shape)\n",
        "\n",
        "    plt.contourf(xx, yy, Z, cmap=plt.cm.Paired, alpha=0.2)\n",
        "\n",
        "    plt.scatter(X[:,0], X[:,1], s=70, c=y, cmap=mpl.cm.Paired)\n",
        "\n",
        "    # Support vectors indicated in plot by vertical lines\n",
        "\n",
        "    sv = svc.support_vectors_\n",
        "\n",
        "    plt.scatter(sv[:,0], sv[:,1], c='k', marker='x', s=100, linewidths=1) \n",
        "    plt.xlim(x_min, x_max)\n",
        "\n",
        "    plt.ylim(y_min, y_max) \n",
        "    plt.xlabel('X1')\n",
        "\n",
        "    plt.ylabel('X2') \n",
        "    plt.show()\n",
        "\n",
        "    print('Number of support vectors: ', svc.support_.size)"
      ]
    },
    {
      "cell_type": "code",
      "execution_count": null,
      "metadata": {
        "id": "uwZUDI13dN2o"
      },
      "outputs": [],
      "source": [
        "# Generating random data: 20 observations of 2 features and divide into two\n",
        "np.random.seed(5)\n",
        "X = np.random.randn(20,2)\n",
        "y = np.repeat([1,-1], 10)\n",
        "X[y == -1] = X[y == -1] + 1"
      ]
    },
    {
      "cell_type": "code",
      "execution_count": null,
      "metadata": {
        "colab": {
          "base_uri": "https://localhost:8080/"
        },
        "id": "BsdEUo5qda4s",
        "outputId": "2c579069-8597-44e9-f0f3-0bb6f494b15c"
      },
      "outputs": [
        {
          "name": "stdout",
          "output_type": "stream",
          "text": [
            "[[ 0.44122749 -0.33087015]\n",
            " [ 2.43077119 -0.25209213]\n",
            " [ 0.10960984  1.58248112]\n",
            " [-0.9092324  -0.59163666]\n",
            " [ 0.18760323 -0.32986996]\n",
            " [-1.19276461 -0.20487651]\n",
            " [-0.35882895  0.6034716 ]\n",
            " [-1.66478853 -0.70017904]\n",
            " [ 1.15139101  1.85733101]\n",
            " [-1.51117956  0.64484751]\n",
            " [ 0.01939211  0.14314685]\n",
            " [ 0.12812082  0.57749207]\n",
            " [ 1.99643983  1.71242127]\n",
            " [ 1.05914424  0.63668912]\n",
            " [ 1.00328884  0.89406956]\n",
            " [ 1.79305332  0.36842837]\n",
            " [ 0.99380509  0.89893239]\n",
            " [ 0.94769185  1.24921766]\n",
            " [ 1.19766009  2.33484857]\n",
            " [ 0.91312439  2.56153229]]\n"
          ]
        }
      ],
      "source": [
        "print(X)"
      ]
    },
    {
      "cell_type": "code",
      "execution_count": null,
      "metadata": {
        "colab": {
          "base_uri": "https://localhost:8080/"
        },
        "id": "7RgDwtuUd4dl",
        "outputId": "e70a8102-312e-480e-ff16-1dc9152bfd18"
      },
      "outputs": [
        {
          "name": "stdout",
          "output_type": "stream",
          "text": [
            "[ 1  1  1  1  1  1  1  1  1  1 -1 -1 -1 -1 -1 -1 -1 -1 -1 -1]\n"
          ]
        }
      ],
      "source": [
        "print(y)"
      ]
    },
    {
      "cell_type": "code",
      "execution_count": null,
      "metadata": {
        "colab": {
          "base_uri": "https://localhost:8080/",
          "height": 296
        },
        "id": "2Dt0NLObd7yN",
        "outputId": "8b9516d8-12d0-40b4-decc-f0476900001d"
      },
      "outputs": [
        {
          "data": {
            "text/plain": [
              "Text(0, 0.5, 'X2')"
            ]
          },
          "execution_count": 50,
          "metadata": {},
          "output_type": "execute_result"
        },
        {
          "data": {
            "image/png": "[encoded data removed]",
            "text/plain": [
              "<Figure size 432x288 with 1 Axes>"
            ]
          },
          "metadata": {},
          "output_type": "display_data"
        }
      ],
      "source": [
        "# Scatter plot between the two features, where colour indicates the target class\n",
        "plt.scatter(X[:,0], X[:,1], s=70, c=y, cmap=mpl.cm.Paired)\n",
        "plt.xlabel('X1')\n",
        "plt.ylabel('X2')"
      ]
    },
    {
      "cell_type": "markdown",
      "metadata": {
        "id": "UDx81iXAeRr8"
      },
      "source": [
        "Linear or Not Linear ? Not Linear separable "
      ]
    },
    {
      "cell_type": "code",
      "execution_count": null,
      "metadata": {
        "colab": {
          "base_uri": "https://localhost:8080/"
        },
        "id": "C1ctR1LKek1d",
        "outputId": "b9954470-fff6-48c6-80a9-c46a215d0580"
      },
      "outputs": [
        {
          "data": {
            "text/plain": [
              "SVC(C=1, kernel='linear')"
            ]
          },
          "execution_count": 51,
          "metadata": {},
          "output_type": "execute_result"
        }
      ],
      "source": [
        "# Fitting the Support Vector Classifier Model\n",
        "from sklearn.svm import SVC\n",
        "svc = SVC(C=1, kernel='linear')\n",
        "svc.fit(X, y)"
      ]
    },
    {
      "cell_type": "code",
      "execution_count": null,
      "metadata": {
        "colab": {
          "base_uri": "https://localhost:8080/",
          "height": 296
        },
        "id": "mBHHLofFe_zV",
        "outputId": "b794b67f-64d0-4a23-ec2b-09cf8728fd68"
      },
      "outputs": [
        {
          "data": {
            "image/png": "[encoded data removed]",
            "text/plain": [
              "<Figure size 432x288 with 1 Axes>"
            ]
          },
          "metadata": {},
          "output_type": "display_data"
        },
        {
          "name": "stdout",
          "output_type": "stream",
          "text": [
            "Number of support vectors:  13\n"
          ]
        }
      ],
      "source": [
        "plot_svc(svc, X, y)"
      ]
    },
    {
      "cell_type": "markdown",
      "metadata": {
        "id": "xoSN07ABfPWG"
      },
      "source": [
        "Number of Support vecors? 13 vectors"
      ]
    },
    {
      "cell_type": "code",
      "execution_count": null,
      "metadata": {
        "colab": {
          "base_uri": "https://localhost:8080/"
        },
        "id": "C6XEn3h5fFmc",
        "outputId": "3f56f6bd-8954-46ab-81b3-7b6cda1f9873"
      },
      "outputs": [
        {
          "data": {
            "text/plain": [
              "array([10, 11, 13, 14, 15, 16, 17,  0,  1,  2,  4,  6,  8], dtype=int32)"
            ]
          },
          "execution_count": 53,
          "metadata": {},
          "output_type": "execute_result"
        }
      ],
      "source": [
        "svc.support_"
      ]
    },
    {
      "cell_type": "code",
      "execution_count": null,
      "metadata": {
        "colab": {
          "base_uri": "https://localhost:8080/",
          "height": 296
        },
        "id": "ActD8rX6fdhE",
        "outputId": "7a6d77bc-27f2-4c92-852c-3a6b4f27962b"
      },
      "outputs": [
        {
          "data": {
            "image/png": "[encoded data removed]",
            "text/plain": [
              "<Figure size 432x288 with 1 Axes>"
            ]
          },
          "metadata": {},
          "output_type": "display_data"
        },
        {
          "name": "stdout",
          "output_type": "stream",
          "text": [
            "Number of support vectors:  16\n"
          ]
        }
      ],
      "source": [
        "svc2 = SVC(C=0.1, kernel='linear') \n",
        "svc2.fit(X, y)\n",
        "\n",
        "plot_svc(svc2, X, y)"
      ]
    },
    {
      "cell_type": "markdown",
      "metadata": {
        "id": "IPYCjz9HfkHF"
      },
      "source": [
        "Number of support vectors? 16 vectors"
      ]
    },
    {
      "cell_type": "markdown",
      "metadata": {
        "id": "VqoSlbm-fqeF"
      },
      "source": [
        "c and no of vectors inversely related cause wider margin "
      ]
    },
    {
      "cell_type": "code",
      "execution_count": null,
      "metadata": {
        "colab": {
          "base_uri": "https://localhost:8080/"
        },
        "id": "LMsHBQdZfjok",
        "outputId": "3e193bbc-b417-40bd-d4a0-0bd934b3f24f"
      },
      "outputs": [
        {
          "data": {
            "text/plain": [
              "GridSearchCV(cv=10, estimator=SVC(kernel='linear'),\n",
              "             param_grid=[{'C': [0.001, 0.01, 0.1, 1, 5, 10, 100]}],\n",
              "             scoring='accuracy')"
            ]
          },
          "execution_count": 55,
          "metadata": {},
          "output_type": "execute_result"
        }
      ],
      "source": [
        "# Performing cross validation 10-fold\n",
        "from sklearn.model_selection import GridSearchCV\n",
        "\n",
        "# Select the optimal C parameter by cross-validation\n",
        "tuned_parameters = [{'C': [0.001, 0.01, 0.1, 1, 5, 10, 100]}]\n",
        "clf = GridSearchCV(SVC(kernel='linear'), tuned_parameters, cv=10, scoring='accuracy')\n",
        "clf.fit(X, y)"
      ]
    },
    {
      "cell_type": "code",
      "execution_count": null,
      "metadata": {
        "colab": {
          "base_uri": "https://localhost:8080/"
        },
        "id": "JIb-KZNKgHKl",
        "outputId": "d68c0f03-de26-4595-8dbc-0e87566ccd28"
      },
      "outputs": [
        {
          "data": {
            "text/plain": [
              "{'mean_fit_time': array([0.00080674, 0.00059888, 0.00071676, 0.00058267, 0.00056789,\n",
              "        0.00058255, 0.00071225]),\n",
              " 'mean_score_time': array([0.00044205, 0.0003253 , 0.0004715 , 0.00031848, 0.00031333,\n",
              "        0.00031843, 0.00032213]),\n",
              " 'mean_test_score': array([0.8 , 0.8 , 0.8 , 0.75, 0.75, 0.75, 0.75]),\n",
              " 'param_C': masked_array(data=[0.001, 0.01, 0.1, 1, 5, 10, 100],\n",
              "              mask=[False, False, False, False, False, False, False],\n",
              "        fill_value='?',\n",
              "             dtype=object),\n",
              " 'params': [{'C': 0.001},\n",
              "  {'C': 0.01},\n",
              "  {'C': 0.1},\n",
              "  {'C': 1},\n",
              "  {'C': 5},\n",
              "  {'C': 10},\n",
              "  {'C': 100}],\n",
              " 'rank_test_score': array([1, 1, 1, 4, 4, 4, 4], dtype=int32),\n",
              " 'split0_test_score': array([0.5, 0.5, 0.5, 0.5, 0.5, 0.5, 0.5]),\n",
              " 'split1_test_score': array([0.5, 0.5, 0.5, 0. , 0. , 0. , 0. ]),\n",
              " 'split2_test_score': array([0.5, 0.5, 0.5, 0.5, 0.5, 0.5, 0.5]),\n",
              " 'split3_test_score': array([1., 1., 1., 1., 1., 1., 1.]),\n",
              " 'split4_test_score': array([1., 1., 1., 1., 1., 1., 1.]),\n",
              " 'split5_test_score': array([1., 1., 1., 1., 1., 1., 1.]),\n",
              " 'split6_test_score': array([1., 1., 1., 1., 1., 1., 1.]),\n",
              " 'split7_test_score': array([1., 1., 1., 1., 1., 1., 1.]),\n",
              " 'split8_test_score': array([0.5, 0.5, 0.5, 0.5, 0.5, 0.5, 0.5]),\n",
              " 'split9_test_score': array([1., 1., 1., 1., 1., 1., 1.]),\n",
              " 'std_fit_time': array([4.32598315e-04, 4.36026387e-05, 1.35803442e-04, 9.76516893e-05,\n",
              "        1.89893925e-05, 2.57390938e-05, 5.60911517e-05]),\n",
              " 'std_score_time': array([2.57278823e-04, 1.26668271e-05, 2.07879077e-04, 3.45025213e-05,\n",
              "        1.42145469e-05, 3.00767093e-05, 2.11211008e-05]),\n",
              " 'std_test_score': array([0.24494897, 0.24494897, 0.24494897, 0.3354102 , 0.3354102 ,\n",
              "        0.3354102 , 0.3354102 ])}"
            ]
          },
          "execution_count": 56,
          "metadata": {},
          "output_type": "execute_result"
        }
      ],
      "source": [
        "clf.cv_results_ # Cross validation scores and errors for each split"
      ]
    },
    {
      "cell_type": "code",
      "execution_count": null,
      "metadata": {
        "colab": {
          "base_uri": "https://localhost:8080/"
        },
        "id": "pSVohVoBgfZ1",
        "outputId": "e9e0ea43-4f42-4a79-dcf9-44c341bd3904"
      },
      "outputs": [
        {
          "data": {
            "text/plain": [
              "{'C': 0.001}"
            ]
          },
          "execution_count": 57,
          "metadata": {},
          "output_type": "execute_result"
        }
      ],
      "source": [
        "clf.best_params_"
      ]
    },
    {
      "cell_type": "code",
      "execution_count": null,
      "metadata": {
        "id": "hKXgHZBohJHU"
      },
      "outputs": [],
      "source": [
        "np.random.seed(1)\n",
        "X_test = np.random.randn(20,2) \n",
        "y_test = np.random.choice([-1,1], 20)\n",
        "X_test[y_test == 1] = X_test[y_test == 1] -1"
      ]
    },
    {
      "cell_type": "code",
      "execution_count": null,
      "metadata": {
        "colab": {
          "base_uri": "https://localhost:8080/",
          "height": 112
        },
        "id": "ibAJCGVMhPxk",
        "outputId": "53a15b78-c115-4a18-e02f-90fd9bfa7fe8"
      },
      "outputs": [
        {
          "data": {
            "text/html": [
              "\n",
              "  <div id=\"df-e8e1da3e-2441-4c62-808a-8d673818e42b\">\n",
              "    <div class=\"colab-df-container\">\n",
              "      <div>\n",
              "<style scoped>\n",
              "    .dataframe tbody tr th:only-of-type {\n",
              "        vertical-align: middle;\n",
              "    }\n",
              "\n",
              "    .dataframe tbody tr th {\n",
              "        vertical-align: top;\n",
              "    }\n",
              "\n",
              "    .dataframe thead th {\n",
              "        text-align: right;\n",
              "    }\n",
              "</style>\n",
              "<table border=\"1\" class=\"dataframe\">\n",
              "  <thead>\n",
              "    <tr style=\"text-align: right;\">\n",
              "      <th></th>\n",
              "      <th>-1</th>\n",
              "      <th>+1</th>\n",
              "    </tr>\n",
              "  </thead>\n",
              "  <tbody>\n",
              "    <tr>\n",
              "      <th>-1</th>\n",
              "      <td>2</td>\n",
              "      <td>6</td>\n",
              "    </tr>\n",
              "    <tr>\n",
              "      <th>1</th>\n",
              "      <td>0</td>\n",
              "      <td>12</td>\n",
              "    </tr>\n",
              "  </tbody>\n",
              "</table>\n",
              "</div>\n",
              "      <button class=\"colab-df-convert\" onclick=\"convertToInteractive('df-e8e1da3e-2441-4c62-808a-8d673818e42b')\"\n",
              "              title=\"Convert this dataframe to an interactive table.\"\n",
              "              style=\"display:none;\">\n",
              "        \n",
              "  <svg xmlns=\"http://www.w3.org/2000/svg\" height=\"24px\"viewBox=\"0 0 24 24\"\n",
              "       width=\"24px\">\n",
              "    <path d=\"M0 0h24v24H0V0z\" fill=\"none\"/>\n",
              "    <path d=\"M18.56 5.44l.94 2.06.94-2.06 2.06-.94-2.06-.94-.94-2.06-.94 2.06-2.06.94zm-11 1L8.5 8.5l.94-2.06 2.06-.94-2.06-.94L8.5 2.5l-.94 2.06-2.06.94zm10 10l.94 2.06.94-2.06 2.06-.94-2.06-.94-.94-2.06-.94 2.06-2.06.94z\"/><path d=\"M17.41 7.96l-1.37-1.37c-.4-.4-.92-.59-1.43-.59-.52 0-1.04.2-1.43.59L10.3 9.45l-7.72 7.72c-.78.78-.78 2.05 0 2.83L4 21.41c.39.39.9.59 1.41.59.51 0 1.02-.2 1.41-.59l7.78-7.78 2.81-2.81c.8-.78.8-2.07 0-2.86zM5.41 20L4 18.59l7.72-7.72 1.47 1.35L5.41 20z\"/>\n",
              "  </svg>\n",
              "      </button>\n",
              "      \n",
              "  <style>\n",
              "    .colab-df-container {\n",
              "      display:flex;\n",
              "      flex-wrap:wrap;\n",
              "      gap: 12px;\n",
              "    }\n",
              "\n",
              "    .colab-df-convert {\n",
              "      background-color: #E8F0FE;\n",
              "      border: none;\n",
              "      border-radius: 50%;\n",
              "      cursor: pointer;\n",
              "      display: none;\n",
              "      fill: #1967D2;\n",
              "      height: 32px;\n",
              "      padding: 0 0 0 0;\n",
              "      width: 32px;\n",
              "    }\n",
              "\n",
              "    .colab-df-convert:hover {\n",
              "      background-color: #E2EBFA;\n",
              "      box-shadow: 0px 1px 2px rgba(60, 64, 67, 0.3), 0px 1px 3px 1px rgba(60, 64, 67, 0.15);\n",
              "      fill: #174EA6;\n",
              "    }\n",
              "\n",
              "    [theme=dark] .colab-df-convert {\n",
              "      background-color: #3B4455;\n",
              "      fill: #D2E3FC;\n",
              "    }\n",
              "\n",
              "    [theme=dark] .colab-df-convert:hover {\n",
              "      background-color: #434B5C;\n",
              "      box-shadow: 0px 1px 3px 1px rgba(0, 0, 0, 0.15);\n",
              "      filter: drop-shadow(0px 1px 2px rgba(0, 0, 0, 0.3));\n",
              "      fill: #FFFFFF;\n",
              "    }\n",
              "  </style>\n",
              "\n",
              "      <script>\n",
              "        const buttonEl =\n",
              "          document.querySelector('#df-e8e1da3e-2441-4c62-808a-8d673818e42b button.colab-df-convert');\n",
              "        buttonEl.style.display =\n",
              "          google.colab.kernel.accessAllowed ? 'block' : 'none';\n",
              "\n",
              "        async function convertToInteractive(key) {\n",
              "          const element = document.querySelector('#df-e8e1da3e-2441-4c62-808a-8d673818e42b');\n",
              "          const dataTable =\n",
              "            await google.colab.kernel.invokeFunction('convertToInteractive',\n",
              "                                                     [key], {});\n",
              "          if (!dataTable) return;\n",
              "\n",
              "          const docLinkHtml = 'Like what you see? Visit the ' +\n",
              "            '<a target=\"_blank\" href=https://colab.research.google.com/notebooks/data_table.ipynb>data table notebook</a>'\n",
              "            + ' to learn more about interactive tables.';\n",
              "          element.innerHTML = '';\n",
              "          dataTable['output_type'] = 'display_data';\n",
              "          await google.colab.output.renderOutput(dataTable, element);\n",
              "          const docLink = document.createElement('div');\n",
              "          docLink.innerHTML = docLinkHtml;\n",
              "          element.appendChild(docLink);\n",
              "        }\n",
              "      </script>\n",
              "    </div>\n",
              "  </div>\n",
              "  "
            ],
            "text/plain": [
              "    -1  +1\n",
              "-1   2   6\n",
              " 1   0  12"
            ]
          },
          "execution_count": 59,
          "metadata": {},
          "output_type": "execute_result"
        }
      ],
      "source": [
        "# Fitting SVC with best C value\n",
        "svc2 = SVC(C=0.001, kernel='linear')\n",
        "svc2.fit(X, y)\n",
        "y_pred = svc2.predict(X_test)\n",
        "pd.DataFrame(confusion_matrix(y_test, y_pred), index=svc2.classes_, columns=['-1','+1'])"
      ]
    },
    {
      "cell_type": "code",
      "execution_count": null,
      "metadata": {
        "colab": {
          "base_uri": "https://localhost:8080/",
          "height": 112
        },
        "id": "Yi6O6_6BiVI8",
        "outputId": "61b17659-b82d-4ba5-ce54-9dda4ccb1105"
      },
      "outputs": [
        {
          "data": {
            "text/html": [
              "\n",
              "  <div id=\"df-646d98b3-29d1-4d5e-b920-06c9de88c540\">\n",
              "    <div class=\"colab-df-container\">\n",
              "      <div>\n",
              "<style scoped>\n",
              "    .dataframe tbody tr th:only-of-type {\n",
              "        vertical-align: middle;\n",
              "    }\n",
              "\n",
              "    .dataframe tbody tr th {\n",
              "        vertical-align: top;\n",
              "    }\n",
              "\n",
              "    .dataframe thead th {\n",
              "        text-align: right;\n",
              "    }\n",
              "</style>\n",
              "<table border=\"1\" class=\"dataframe\">\n",
              "  <thead>\n",
              "    <tr style=\"text-align: right;\">\n",
              "      <th></th>\n",
              "      <th>Predicted -1</th>\n",
              "      <th>Predicted +1</th>\n",
              "    </tr>\n",
              "  </thead>\n",
              "  <tbody>\n",
              "    <tr>\n",
              "      <th>Actual -1</th>\n",
              "      <td>2</td>\n",
              "      <td>6</td>\n",
              "    </tr>\n",
              "    <tr>\n",
              "      <th>Actual +1</th>\n",
              "      <td>0</td>\n",
              "      <td>12</td>\n",
              "    </tr>\n",
              "  </tbody>\n",
              "</table>\n",
              "</div>\n",
              "      <button class=\"colab-df-convert\" onclick=\"convertToInteractive('df-646d98b3-29d1-4d5e-b920-06c9de88c540')\"\n",
              "              title=\"Convert this dataframe to an interactive table.\"\n",
              "              style=\"display:none;\">\n",
              "        \n",
              "  <svg xmlns=\"http://www.w3.org/2000/svg\" height=\"24px\"viewBox=\"0 0 24 24\"\n",
              "       width=\"24px\">\n",
              "    <path d=\"M0 0h24v24H0V0z\" fill=\"none\"/>\n",
              "    <path d=\"M18.56 5.44l.94 2.06.94-2.06 2.06-.94-2.06-.94-.94-2.06-.94 2.06-2.06.94zm-11 1L8.5 8.5l.94-2.06 2.06-.94-2.06-.94L8.5 2.5l-.94 2.06-2.06.94zm10 10l.94 2.06.94-2.06 2.06-.94-2.06-.94-.94-2.06-.94 2.06-2.06.94z\"/><path d=\"M17.41 7.96l-1.37-1.37c-.4-.4-.92-.59-1.43-.59-.52 0-1.04.2-1.43.59L10.3 9.45l-7.72 7.72c-.78.78-.78 2.05 0 2.83L4 21.41c.39.39.9.59 1.41.59.51 0 1.02-.2 1.41-.59l7.78-7.78 2.81-2.81c.8-.78.8-2.07 0-2.86zM5.41 20L4 18.59l7.72-7.72 1.47 1.35L5.41 20z\"/>\n",
              "  </svg>\n",
              "      </button>\n",
              "      \n",
              "  <style>\n",
              "    .colab-df-container {\n",
              "      display:flex;\n",
              "      flex-wrap:wrap;\n",
              "      gap: 12px;\n",
              "    }\n",
              "\n",
              "    .colab-df-convert {\n",
              "      background-color: #E8F0FE;\n",
              "      border: none;\n",
              "      border-radius: 50%;\n",
              "      cursor: pointer;\n",
              "      display: none;\n",
              "      fill: #1967D2;\n",
              "      height: 32px;\n",
              "      padding: 0 0 0 0;\n",
              "      width: 32px;\n",
              "    }\n",
              "\n",
              "    .colab-df-convert:hover {\n",
              "      background-color: #E2EBFA;\n",
              "      box-shadow: 0px 1px 2px rgba(60, 64, 67, 0.3), 0px 1px 3px 1px rgba(60, 64, 67, 0.15);\n",
              "      fill: #174EA6;\n",
              "    }\n",
              "\n",
              "    [theme=dark] .colab-df-convert {\n",
              "      background-color: #3B4455;\n",
              "      fill: #D2E3FC;\n",
              "    }\n",
              "\n",
              "    [theme=dark] .colab-df-convert:hover {\n",
              "      background-color: #434B5C;\n",
              "      box-shadow: 0px 1px 3px 1px rgba(0, 0, 0, 0.15);\n",
              "      filter: drop-shadow(0px 1px 2px rgba(0, 0, 0, 0.3));\n",
              "      fill: #FFFFFF;\n",
              "    }\n",
              "  </style>\n",
              "\n",
              "      <script>\n",
              "        const buttonEl =\n",
              "          document.querySelector('#df-646d98b3-29d1-4d5e-b920-06c9de88c540 button.colab-df-convert');\n",
              "        buttonEl.style.display =\n",
              "          google.colab.kernel.accessAllowed ? 'block' : 'none';\n",
              "\n",
              "        async function convertToInteractive(key) {\n",
              "          const element = document.querySelector('#df-646d98b3-29d1-4d5e-b920-06c9de88c540');\n",
              "          const dataTable =\n",
              "            await google.colab.kernel.invokeFunction('convertToInteractive',\n",
              "                                                     [key], {});\n",
              "          if (!dataTable) return;\n",
              "\n",
              "          const docLinkHtml = 'Like what you see? Visit the ' +\n",
              "            '<a target=\"_blank\" href=https://colab.research.google.com/notebooks/data_table.ipynb>data table notebook</a>'\n",
              "            + ' to learn more about interactive tables.';\n",
              "          element.innerHTML = '';\n",
              "          dataTable['output_type'] = 'display_data';\n",
              "          await google.colab.output.renderOutput(dataTable, element);\n",
              "          const docLink = document.createElement('div');\n",
              "          docLink.innerHTML = docLinkHtml;\n",
              "          element.appendChild(docLink);\n",
              "        }\n",
              "      </script>\n",
              "    </div>\n",
              "  </div>\n",
              "  "
            ],
            "text/plain": [
              "           Predicted -1  Predicted +1\n",
              "Actual -1             2             6\n",
              "Actual +1             0            12"
            ]
          },
          "execution_count": 60,
          "metadata": {},
          "output_type": "execute_result"
        }
      ],
      "source": [
        "pd.DataFrame(confusion_matrix(y_test, y_pred), index=['Actual -1','Actual +1'], columns=['Predicted -1','Predicted +1'])"
      ]
    },
    {
      "cell_type": "code",
      "execution_count": null,
      "metadata": {
        "colab": {
          "base_uri": "https://localhost:8080/"
        },
        "id": "iM84MIL6izOd",
        "outputId": "ce50a9cf-6c15-4bd8-8a57-2f13fbfe3ba6"
      },
      "outputs": [
        {
          "name": "stdout",
          "output_type": "stream",
          "text": [
            "              precision    recall  f1-score   support\n",
            "\n",
            "          -1       1.00      0.25      0.40         8\n",
            "           1       0.67      1.00      0.80        12\n",
            "\n",
            "    accuracy                           0.70        20\n",
            "   macro avg       0.83      0.62      0.60        20\n",
            "weighted avg       0.80      0.70      0.64        20\n",
            "\n"
          ]
        }
      ],
      "source": [
        "from sklearn.metrics import classification_report\n",
        "print(classification_report(y_test, y_pred))"
      ]
    },
    {
      "cell_type": "code",
      "execution_count": null,
      "metadata": {
        "colab": {
          "base_uri": "https://localhost:8080/",
          "height": 296
        },
        "id": "Sq6DAD0mi390",
        "outputId": "432683b3-e4a5-4beb-da93-a84c740a64e1"
      },
      "outputs": [
        {
          "data": {
            "text/plain": [
              "Text(0, 0.5, 'X2')"
            ]
          },
          "execution_count": 62,
          "metadata": {},
          "output_type": "execute_result"
        },
        {
          "data": {
            "image/png": "[encoded data removed]",
            "text/plain": [
              "<Figure size 432x288 with 1 Axes>"
            ]
          },
          "metadata": {},
          "output_type": "display_data"
        }
      ],
      "source": [
        "# Making nearly linearly separable data\n",
        "X_test[y_test == 1] = X_test[y_test == 1] -1\n",
        "plt.scatter(X_test[:,0], X_test[:,1], s=70, c=y_test, cmap=mpl.cm.Paired)\n",
        "plt.xlabel('X1')\n",
        "plt.ylabel('X2')"
      ]
    },
    {
      "cell_type": "code",
      "execution_count": null,
      "metadata": {
        "colab": {
          "base_uri": "https://localhost:8080/",
          "height": 296
        },
        "id": "cCXvuniIi7Pc",
        "outputId": "19c1ad06-11c3-404d-d8b8-916dbc420294"
      },
      "outputs": [
        {
          "data": {
            "image/png": "[encoded data removed]",
            "text/plain": [
              "<Figure size 432x288 with 1 Axes>"
            ]
          },
          "metadata": {},
          "output_type": "display_data"
        },
        {
          "name": "stdout",
          "output_type": "stream",
          "text": [
            "Number of support vectors:  3\n"
          ]
        }
      ],
      "source": [
        "svc3 = SVC(C=1e5, kernel='linear')\n",
        "svc3.fit(X_test, y_test)\n",
        "plot_svc(svc3, X_test, y_test)"
      ]
    },
    {
      "cell_type": "markdown",
      "metadata": {
        "id": "I2t2O4gUjHHz"
      },
      "source": [
        "Number of support vectors? 3 vectors \n",
        "\n",
        "No training errors were made and only three support vectors were used.\n",
        "\n",
        "However, we can see from the figure that the margin is very narrow (because the observations that are not support vectors, indicated as circles, are very close to the decision boundary). \n",
        "\n",
        "It seems likely that this model will perform poorly on test data. Let’s try a smaller value of cost:"
      ]
    },
    {
      "cell_type": "code",
      "execution_count": null,
      "metadata": {
        "colab": {
          "base_uri": "https://localhost:8080/",
          "height": 296
        },
        "id": "_zsQNLb2jALz",
        "outputId": "c4390eb3-a574-4e03-be71-62bb55c0c640"
      },
      "outputs": [
        {
          "data": {
            "image/png": "[encoded data removed]",
            "text/plain": [
              "<Figure size 432x288 with 1 Axes>"
            ]
          },
          "metadata": {},
          "output_type": "display_data"
        },
        {
          "name": "stdout",
          "output_type": "stream",
          "text": [
            "Number of support vectors:  5\n"
          ]
        }
      ],
      "source": [
        "svc4 = SVC(C=1, kernel='linear') \n",
        "svc4.fit(X_test, y_test) \n",
        "plot_svc(svc4, X_test, y_test)"
      ]
    },
    {
      "cell_type": "markdown",
      "metadata": {
        "id": "2mvSoP0bjasA"
      },
      "source": [
        "Number of support vectors? 5 vectors \n",
        "\n",
        "Using cost = 1, we misclassify a training observation, but we also obtain a much wider margin and make use of five support vectors. \n",
        "It seems likely that this model will perform better on test data than the model with cost = 1e5."
      ]
    },
    {
      "cell_type": "markdown",
      "metadata": {
        "id": "_lHbpYvGjsMU"
      },
      "source": [
        "Support Vectore Machine: Kernel Method"
      ]
    },
    {
      "cell_type": "code",
      "execution_count": null,
      "metadata": {
        "id": "oOIoXsbNjUfX"
      },
      "outputs": [],
      "source": [
        "from sklearn.model_selection import train_test_split\n",
        "np.random.seed(8)\n",
        "X = np.random.randn(200,2)\n",
        "X[:100] = X[:100] +2\n",
        "X[101:150] = X[101:150] -2\n",
        "y = np.concatenate([np.repeat(-1, 150), np.repeat(1,50)])"
      ]
    },
    {
      "cell_type": "code",
      "execution_count": null,
      "metadata": {
        "colab": {
          "base_uri": "https://localhost:8080/",
          "height": 296
        },
        "id": "gVizcwAnkClE",
        "outputId": "89d2b0f7-c347-467c-81e5-215922fd6935"
      },
      "outputs": [
        {
          "data": {
            "text/plain": [
              "Text(0, 0.5, 'X2')"
            ]
          },
          "execution_count": 66,
          "metadata": {},
          "output_type": "execute_result"
        },
        {
          "data": {
            "image/png": "[encoded data removed]",
            "text/plain": [
              "<Figure size 432x288 with 1 Axes>"
            ]
          },
          "metadata": {},
          "output_type": "display_data"
        }
      ],
      "source": [
        "X_train, X_test, y_train, y_test = train_test_split(X, y, train_size=0.5)\n",
        "plt.scatter(X[:,0], X[:,1], s=70, c=y, cmap=mpl.cm.Paired)\n",
        "plt.xlabel('X1')\n",
        "plt.ylabel('X2')"
      ]
    },
    {
      "cell_type": "markdown",
      "metadata": {
        "id": "Ch7rTXK3kTVW"
      },
      "source": [
        "- When one class is stuck in middle of another ---> use RBF"
      ]
    },
    {
      "cell_type": "code",
      "execution_count": null,
      "metadata": {
        "colab": {
          "base_uri": "https://localhost:8080/",
          "height": 296
        },
        "id": "jP7tyS4skQQ8",
        "outputId": "e872061e-de84-447c-f8f9-63965ab95f96"
      },
      "outputs": [
        {
          "data": {
            "image/png": "[encoded data removed]",
            "text/plain": [
              "<Figure size 432x288 with 1 Axes>"
            ]
          },
          "metadata": {},
          "output_type": "display_data"
        },
        {
          "name": "stdout",
          "output_type": "stream",
          "text": [
            "Number of support vectors:  54\n"
          ]
        }
      ],
      "source": [
        "# Using the SVC() function with a radial kernel and γ = 1\n",
        "svm = SVC(C=1.0, kernel='rbf', gamma=1)\n",
        "svm.fit(X_train, y_train)\n",
        "plot_svc(svm, X_test, y_test)"
      ]
    },
    {
      "cell_type": "markdown",
      "metadata": {
        "id": "_ItDJq8WkqBc"
      },
      "source": [
        "The plot shows that the resulting SVM has a decidedly non-linear boundary. We can see from the figure that there are a fair number of training errors in this SVM fit. If we increase the value of cost, we can reduce the number of training errors"
      ]
    },
    {
      "cell_type": "code",
      "execution_count": null,
      "metadata": {
        "colab": {
          "base_uri": "https://localhost:8080/"
        },
        "id": "NcPyxVRkkgFr",
        "outputId": "9a93137d-b67a-4b0b-b8c7-5d3fe1cc0d9d"
      },
      "outputs": [
        {
          "data": {
            "image/png": "[encoded data removed]",
            "text/plain": [
              "<Figure size 432x288 with 1 Axes>"
            ]
          },
          "metadata": {},
          "output_type": "display_data"
        },
        {
          "name": "stdout",
          "output_type": "stream",
          "text": [
            "Number of support vectors:  29\n"
          ]
        }
      ],
      "source": [
        "# Increasing C parameter, allowing more flexibility\n",
        "svm2 = SVC(C=100, kernel='rbf', gamma=1.0)\n",
        "svm2.fit(X_train, y_train)\n",
        "plot_svc(svm2, X_test, y_test)"
      ]
    },
    {
      "cell_type": "markdown",
      "metadata": {
        "id": "JqzD_ZKglBAL"
      },
      "source": [
        "Number of vectors -> 29"
      ]
    },
    {
      "cell_type": "code",
      "execution_count": null,
      "metadata": {
        "colab": {
          "base_uri": "https://localhost:8080/"
        },
        "id": "hxHT_xf0k8iz",
        "outputId": "4e2407ab-1c5a-4100-e39a-25a446a98ce1"
      },
      "outputs": [
        {
          "data": {
            "text/plain": [
              "{'C': 1, 'gamma': 0.5}"
            ]
          },
          "execution_count": 69,
          "metadata": {},
          "output_type": "execute_result"
        }
      ],
      "source": [
        "tuned_parameters = [{'C': [0.01, 0.1, 1, 10, 100],'gamma': [0.5, 1,2,3,4]}]\n",
        "clf = GridSearchCV(SVC(kernel='rbf'), tuned_parameters, cv=10, scoring='accuracy')\n",
        "clf.fit(X_train, y_train)\n",
        "clf.best_params_"
      ]
    },
    {
      "cell_type": "code",
      "execution_count": null,
      "metadata": {
        "colab": {
          "base_uri": "https://localhost:8080/"
        },
        "id": "NV4z0jjIlMAr",
        "outputId": "3e217dc0-1224-4bd1-f946-646b009982d0"
      },
      "outputs": [
        {
          "data": {
            "image/png": "[encoded data removed]",
            "text/plain": [
              "<Figure size 432x288 with 1 Axes>"
            ]
          },
          "metadata": {},
          "output_type": "display_data"
        },
        {
          "name": "stdout",
          "output_type": "stream",
          "text": [
            "Number of support vectors:  44\n"
          ]
        }
      ],
      "source": [
        "plot_svc(clf.best_estimator_, X_test, y_test)"
      ]
    },
    {
      "cell_type": "code",
      "execution_count": null,
      "metadata": {
        "colab": {
          "base_uri": "https://localhost:8080/"
        },
        "id": "169rDTNglQoD",
        "outputId": "8af3c57f-f702-4c19-de4c-cd53e4b997bb"
      },
      "outputs": [
        {
          "name": "stdout",
          "output_type": "stream",
          "text": [
            "[[72  2]\n",
            " [12 14]]\n",
            "0.86\n"
          ]
        }
      ],
      "source": [
        "print(confusion_matrix(y_test, clf.best_estimator_.predict(X_test))) \n",
        "print(clf.best_estimator_.score(X_test, y_test))"
      ]
    },
    {
      "cell_type": "code",
      "execution_count": null,
      "metadata": {
        "colab": {
          "base_uri": "https://localhost:8080/"
        },
        "id": "4dL7TB1slWxj",
        "outputId": "d1f16bd7-d2f4-421d-fd86-3d3c17722d9c"
      },
      "outputs": [
        {
          "name": "stdout",
          "output_type": "stream",
          "text": [
            "              precision    recall  f1-score   support\n",
            "\n",
            "          -1       0.86      0.97      0.91        74\n",
            "           1       0.88      0.54      0.67        26\n",
            "\n",
            "    accuracy                           0.86       100\n",
            "   macro avg       0.87      0.76      0.79       100\n",
            "weighted avg       0.86      0.86      0.85       100\n",
            "\n"
          ]
        }
      ],
      "source": [
        "from sklearn.metrics import classification_report\n",
        "y_pred = clf.best_estimator_.predict(X_test)\n",
        "print(classification_report(y_test, y_pred))"
      ]
    },
    {
      "cell_type": "markdown",
      "metadata": {
        "id": "C1CjTZEXnEjk"
      },
      "source": [
        "Poly kernel "
      ]
    },
    {
      "cell_type": "code",
      "execution_count": null,
      "metadata": {
        "colab": {
          "base_uri": "https://localhost:8080/",
          "height": 296
        },
        "id": "kpEAiScvlmBL",
        "outputId": "085f7c89-0a3a-455c-b3bf-dfd2d36cf18c"
      },
      "outputs": [
        {
          "data": {
            "image/png": "[encoded data removed]",
            "text/plain": [
              "<Figure size 432x288 with 1 Axes>"
            ]
          },
          "metadata": {},
          "output_type": "display_data"
        },
        {
          "name": "stdout",
          "output_type": "stream",
          "text": [
            "Number of support vectors:  50\n"
          ]
        }
      ],
      "source": [
        "# Increasing C parameter, allowing more flexibility\n",
        "svm2 = SVC(C=100, kernel='poly', gamma=1.0)\n",
        "svm2.fit(X_train, y_train)\n",
        "plot_svc(svm2, X_test, y_test)"
      ]
    },
    {
      "cell_type": "code",
      "execution_count": null,
      "metadata": {
        "colab": {
          "background_save": true
        },
        "id": "F-nlH29OoyUz",
        "outputId": "30f577db-c744-4ae0-c9dc-cf6db7da0662"
      },
      "outputs": [
        {
          "data": {
            "text/plain": [
              "{'C': 100, 'gamma': 2}"
            ]
          },
          "execution_count": null,
          "metadata": {},
          "output_type": "execute_result"
        }
      ],
      "source": [
        "tuned_parameters = [{'C': [0.01, 0.1, 1, 10, 100],'gamma': [0.5, 1,2,3,4]}]\n",
        "clf = GridSearchCV(SVC(kernel='poly'), tuned_parameters, cv=10, scoring='accuracy')\n",
        "clf.fit(X_train, y_train)\n",
        "clf.best_params_"
      ]
    },
    {
      "cell_type": "code",
      "execution_count": null,
      "metadata": {
        "colab": {
          "background_save": true
        },
        "id": "_ONUqB2fnC5z",
        "outputId": "0d9f3d21-ff85-4fda-cd99-262808707655"
      },
      "outputs": [
        {
          "data": {
            "image/png": "[encoded data removed]",
            "text/plain": [
              "<Figure size 432x288 with 1 Axes>"
            ]
          },
          "metadata": {},
          "output_type": "display_data"
        },
        {
          "name": "stdout",
          "output_type": "stream",
          "text": [
            "Number of support vectors:  51\n"
          ]
        }
      ],
      "source": [
        "plot_svc(clf.best_estimator_, X_test, y_test)"
      ]
    },
    {
      "cell_type": "code",
      "execution_count": null,
      "metadata": {
        "colab": {
          "background_save": true
        },
        "id": "9T3DjLm-ogis",
        "outputId": "b5ba23f3-15b2-4642-9906-a7bf78f331ae"
      },
      "outputs": [
        {
          "name": "stdout",
          "output_type": "stream",
          "text": [
            "[[71  3]\n",
            " [26  0]]\n",
            "0.71\n"
          ]
        }
      ],
      "source": [
        "print(confusion_matrix(y_test, clf.best_estimator_.predict(X_test))) \n",
        "print(clf.best_estimator_.score(X_test, y_test))"
      ]
    },
    {
      "cell_type": "code",
      "execution_count": null,
      "metadata": {
        "colab": {
          "background_save": true
        },
        "id": "f_xjZV9Dorvb",
        "outputId": "b760fe48-fb61-49a7-c998-bd466614229b"
      },
      "outputs": [
        {
          "name": "stdout",
          "output_type": "stream",
          "text": [
            "              precision    recall  f1-score   support\n",
            "\n",
            "          -1       0.73      0.96      0.83        74\n",
            "           1       0.00      0.00      0.00        26\n",
            "\n",
            "    accuracy                           0.71       100\n",
            "   macro avg       0.37      0.48      0.42       100\n",
            "weighted avg       0.54      0.71      0.61       100\n",
            "\n"
          ]
        }
      ],
      "source": [
        "from sklearn.metrics import classification_report\n",
        "y_pred = clf.best_estimator_.predict(X_test)\n",
        "print(classification_report(y_test, y_pred))"
      ]
    },
    {
      "cell_type": "markdown",
      "source": [
        "Dataset - Pulsar\n"
      ],
      "metadata": {
        "id": "1FM3W9e_2zGI"
      }
    },
    {
      "cell_type": "code",
      "source": [
        "import pandas as pd "
      ],
      "metadata": {
        "id": "hP3Qqm-E3CuL"
      },
      "execution_count": null,
      "outputs": []
    },
    {
      "cell_type": "code",
      "source": [
        "from google.colab import drive #mounting google drive which contains the dataset \n",
        "drive.mount('/content/drive')"
      ],
      "metadata": {
        "id": "mOfAWA5W3X3o",
        "outputId": "77bc1a9f-ed15-4450-a24a-2e5e46bea5b3",
        "colab": {
          "base_uri": "https://localhost:8080/"
        }
      },
      "execution_count": null,
      "outputs": [
        {
          "output_type": "stream",
          "name": "stdout",
          "text": [
            "Mounted at /content/drive\n"
          ]
        }
      ]
    },
    {
      "cell_type": "code",
      "source": [
        "%cd /content/drive/MyDrive/DS"
      ],
      "metadata": {
        "id": "T9E1NXeC3dM_",
        "outputId": "e6ba36da-53a6-44a2-8ae6-9b81c47c10a3",
        "colab": {
          "base_uri": "https://localhost:8080/"
        }
      },
      "execution_count": null,
      "outputs": [
        {
          "output_type": "stream",
          "name": "stdout",
          "text": [
            "/content/drive/MyDrive/DS\n"
          ]
        }
      ]
    },
    {
      "cell_type": "code",
      "source": [
        "%pwd # checking the present directory which contains the dataset"
      ],
      "metadata": {
        "id": "fYhJ-NdD3eTS",
        "outputId": "355d6722-3bd2-4f9a-9567-7e235e0d7b95",
        "colab": {
          "base_uri": "https://localhost:8080/",
          "height": 36
        }
      },
      "execution_count": null,
      "outputs": [
        {
          "output_type": "execute_result",
          "data": {
            "text/plain": [
              "'/content/drive/MyDrive/DS'"
            ],
            "application/vnd.google.colaboratory.intrinsic+json": {
              "type": "string"
            }
          },
          "metadata": {},
          "execution_count": 6
        }
      ]
    },
    {
      "cell_type": "code",
      "source": [
        "train_data = pd.read_csv('pulsar_data_train.csv', encoding='cp1252', delimiter=',', quotechar='\"') \n",
        "test_data = pd.read_csv('pulsar_data_test.csv', encoding='cp1252', delimiter=',', quotechar='\"') "
      ],
      "metadata": {
        "id": "EpUO6Qrf1y8p"
      },
      "execution_count": null,
      "outputs": []
    },
    {
      "cell_type": "code",
      "source": [
        "train_data\n"
      ],
      "metadata": {
        "id": "ikJf4_VJ25OE",
        "outputId": "b955df1d-7590-4470-d5ae-af6b3cfe19df",
        "colab": {
          "base_uri": "https://localhost:8080/",
          "height": 484
        }
      },
      "execution_count": null,
      "outputs": [
        {
          "output_type": "execute_result",
          "data": {
            "text/plain": [
              "        Mean of the integrated profile  \\\n",
              "0                           121.156250   \n",
              "1                            76.968750   \n",
              "2                           130.585938   \n",
              "3                           156.398438   \n",
              "4                            84.804688   \n",
              "...                                ...   \n",
              "12523                       124.312500   \n",
              "12524                       115.617188   \n",
              "12525                       116.031250   \n",
              "12526                       135.664062   \n",
              "12527                       120.726562   \n",
              "\n",
              "        Standard deviation of the integrated profile  \\\n",
              "0                                          48.372971   \n",
              "1                                          36.175557   \n",
              "2                                          53.229534   \n",
              "3                                          48.865942   \n",
              "4                                          36.117659   \n",
              "...                                              ...   \n",
              "12523                                      53.179053   \n",
              "12524                                      46.784600   \n",
              "12525                                      43.213846   \n",
              "12526                                      49.933749   \n",
              "12527                                      50.472256   \n",
              "\n",
              "        Excess kurtosis of the integrated profile  \\\n",
              "0                                        0.375485   \n",
              "1                                        0.712898   \n",
              "2                                        0.133408   \n",
              "3                                       -0.215989   \n",
              "4                                        0.825013   \n",
              "...                                           ...   \n",
              "12523                                   -0.012418   \n",
              "12524                                    0.218177   \n",
              "12525                                    0.663456   \n",
              "12526                                   -0.089940   \n",
              "12527                                    0.346178   \n",
              "\n",
              "        Skewness of the integrated profile   Mean of the DM-SNR curve  \\\n",
              "0                                -0.013165                   3.168896   \n",
              "1                                 3.388719                   2.399666   \n",
              "2                                -0.297242                   2.743311   \n",
              "3                                -0.171294                  17.471572   \n",
              "4                                 3.274125                   2.790134   \n",
              "...                                    ...                        ...   \n",
              "12523                            -0.556021                   7.186455   \n",
              "12524                             0.226757                   6.140468   \n",
              "12525                             0.433088                   0.785117   \n",
              "12526                            -0.226726                   3.859532   \n",
              "12527                             0.184797                   0.769231   \n",
              "\n",
              "        Standard deviation of the DM-SNR curve  \\\n",
              "0                                    18.399367   \n",
              "1                                    17.570997   \n",
              "2                                    22.362553   \n",
              "3                                          NaN   \n",
              "4                                    20.618009   \n",
              "...                                        ...   \n",
              "12523                                29.308266   \n",
              "12524                                      NaN   \n",
              "12525                                11.628149   \n",
              "12526                                21.501505   \n",
              "12527                                11.792603   \n",
              "\n",
              "        Excess kurtosis of the DM-SNR curve   Skewness of the DM-SNR curve  \\\n",
              "0                                  7.449874                      65.159298   \n",
              "1                                  9.414652                     102.722975   \n",
              "2                                  8.508364                      74.031324   \n",
              "3                                  2.958066                       7.197842   \n",
              "4                                  8.405008                      76.291128   \n",
              "...                                     ...                            ...   \n",
              "12523                              4.531382                      21.725143   \n",
              "12524                              5.732201                      34.357283   \n",
              "12525                             17.055215                     312.204325   \n",
              "12526                              7.398395                      62.334018   \n",
              "12527                             17.662222                     329.548016   \n",
              "\n",
              "       target_class  \n",
              "0               0.0  \n",
              "1               0.0  \n",
              "2               0.0  \n",
              "3               0.0  \n",
              "4               0.0  \n",
              "...             ...  \n",
              "12523           0.0  \n",
              "12524           0.0  \n",
              "12525           0.0  \n",
              "12526           0.0  \n",
              "12527           0.0  \n",
              "\n",
              "[12528 rows x 9 columns]"
            ],
            "text/html": [
              "\n",
              "  <div id=\"df-5c2f6c4a-edfb-43fd-9149-5fb4902c324e\">\n",
              "    <div class=\"colab-df-container\">\n",
              "      <div>\n",
              "<style scoped>\n",
              "    .dataframe tbody tr th:only-of-type {\n",
              "        vertical-align: middle;\n",
              "    }\n",
              "\n",
              "    .dataframe tbody tr th {\n",
              "        vertical-align: top;\n",
              "    }\n",
              "\n",
              "    .dataframe thead th {\n",
              "        text-align: right;\n",
              "    }\n",
              "</style>\n",
              "<table border=\"1\" class=\"dataframe\">\n",
              "  <thead>\n",
              "    <tr style=\"text-align: right;\">\n",
              "      <th></th>\n",
              "      <th>Mean of the integrated profile</th>\n",
              "      <th>Standard deviation of the integrated profile</th>\n",
              "      <th>Excess kurtosis of the integrated profile</th>\n",
              "      <th>Skewness of the integrated profile</th>\n",
              "      <th>Mean of the DM-SNR curve</th>\n",
              "      <th>Standard deviation of the DM-SNR curve</th>\n",
              "      <th>Excess kurtosis of the DM-SNR curve</th>\n",
              "      <th>Skewness of the DM-SNR curve</th>\n",
              "      <th>target_class</th>\n",
              "    </tr>\n",
              "  </thead>\n",
              "  <tbody>\n",
              "    <tr>\n",
              "      <th>0</th>\n",
              "      <td>121.156250</td>\n",
              "      <td>48.372971</td>\n",
              "      <td>0.375485</td>\n",
              "      <td>-0.013165</td>\n",
              "      <td>3.168896</td>\n",
              "      <td>18.399367</td>\n",
              "      <td>7.449874</td>\n",
              "      <td>65.159298</td>\n",
              "      <td>0.0</td>\n",
              "    </tr>\n",
              "    <tr>\n",
              "      <th>1</th>\n",
              "      <td>76.968750</td>\n",
              "      <td>36.175557</td>\n",
              "      <td>0.712898</td>\n",
              "      <td>3.388719</td>\n",
              "      <td>2.399666</td>\n",
              "      <td>17.570997</td>\n",
              "      <td>9.414652</td>\n",
              "      <td>102.722975</td>\n",
              "      <td>0.0</td>\n",
              "    </tr>\n",
              "    <tr>\n",
              "      <th>2</th>\n",
              "      <td>130.585938</td>\n",
              "      <td>53.229534</td>\n",
              "      <td>0.133408</td>\n",
              "      <td>-0.297242</td>\n",
              "      <td>2.743311</td>\n",
              "      <td>22.362553</td>\n",
              "      <td>8.508364</td>\n",
              "      <td>74.031324</td>\n",
              "      <td>0.0</td>\n",
              "    </tr>\n",
              "    <tr>\n",
              "      <th>3</th>\n",
              "      <td>156.398438</td>\n",
              "      <td>48.865942</td>\n",
              "      <td>-0.215989</td>\n",
              "      <td>-0.171294</td>\n",
              "      <td>17.471572</td>\n",
              "      <td>NaN</td>\n",
              "      <td>2.958066</td>\n",
              "      <td>7.197842</td>\n",
              "      <td>0.0</td>\n",
              "    </tr>\n",
              "    <tr>\n",
              "      <th>4</th>\n",
              "      <td>84.804688</td>\n",
              "      <td>36.117659</td>\n",
              "      <td>0.825013</td>\n",
              "      <td>3.274125</td>\n",
              "      <td>2.790134</td>\n",
              "      <td>20.618009</td>\n",
              "      <td>8.405008</td>\n",
              "      <td>76.291128</td>\n",
              "      <td>0.0</td>\n",
              "    </tr>\n",
              "    <tr>\n",
              "      <th>...</th>\n",
              "      <td>...</td>\n",
              "      <td>...</td>\n",
              "      <td>...</td>\n",
              "      <td>...</td>\n",
              "      <td>...</td>\n",
              "      <td>...</td>\n",
              "      <td>...</td>\n",
              "      <td>...</td>\n",
              "      <td>...</td>\n",
              "    </tr>\n",
              "    <tr>\n",
              "      <th>12523</th>\n",
              "      <td>124.312500</td>\n",
              "      <td>53.179053</td>\n",
              "      <td>-0.012418</td>\n",
              "      <td>-0.556021</td>\n",
              "      <td>7.186455</td>\n",
              "      <td>29.308266</td>\n",
              "      <td>4.531382</td>\n",
              "      <td>21.725143</td>\n",
              "      <td>0.0</td>\n",
              "    </tr>\n",
              "    <tr>\n",
              "      <th>12524</th>\n",
              "      <td>115.617188</td>\n",
              "      <td>46.784600</td>\n",
              "      <td>0.218177</td>\n",
              "      <td>0.226757</td>\n",
              "      <td>6.140468</td>\n",
              "      <td>NaN</td>\n",
              "      <td>5.732201</td>\n",
              "      <td>34.357283</td>\n",
              "      <td>0.0</td>\n",
              "    </tr>\n",
              "    <tr>\n",
              "      <th>12525</th>\n",
              "      <td>116.031250</td>\n",
              "      <td>43.213846</td>\n",
              "      <td>0.663456</td>\n",
              "      <td>0.433088</td>\n",
              "      <td>0.785117</td>\n",
              "      <td>11.628149</td>\n",
              "      <td>17.055215</td>\n",
              "      <td>312.204325</td>\n",
              "      <td>0.0</td>\n",
              "    </tr>\n",
              "    <tr>\n",
              "      <th>12526</th>\n",
              "      <td>135.664062</td>\n",
              "      <td>49.933749</td>\n",
              "      <td>-0.089940</td>\n",
              "      <td>-0.226726</td>\n",
              "      <td>3.859532</td>\n",
              "      <td>21.501505</td>\n",
              "      <td>7.398395</td>\n",
              "      <td>62.334018</td>\n",
              "      <td>0.0</td>\n",
              "    </tr>\n",
              "    <tr>\n",
              "      <th>12527</th>\n",
              "      <td>120.726562</td>\n",
              "      <td>50.472256</td>\n",
              "      <td>0.346178</td>\n",
              "      <td>0.184797</td>\n",
              "      <td>0.769231</td>\n",
              "      <td>11.792603</td>\n",
              "      <td>17.662222</td>\n",
              "      <td>329.548016</td>\n",
              "      <td>0.0</td>\n",
              "    </tr>\n",
              "  </tbody>\n",
              "</table>\n",
              "<p>12528 rows × 9 columns</p>\n",
              "</div>\n",
              "      <button class=\"colab-df-convert\" onclick=\"convertToInteractive('df-5c2f6c4a-edfb-43fd-9149-5fb4902c324e')\"\n",
              "              title=\"Convert this dataframe to an interactive table.\"\n",
              "              style=\"display:none;\">\n",
              "        \n",
              "  <svg xmlns=\"http://www.w3.org/2000/svg\" height=\"24px\"viewBox=\"0 0 24 24\"\n",
              "       width=\"24px\">\n",
              "    <path d=\"M0 0h24v24H0V0z\" fill=\"none\"/>\n",
              "    <path d=\"M18.56 5.44l.94 2.06.94-2.06 2.06-.94-2.06-.94-.94-2.06-.94 2.06-2.06.94zm-11 1L8.5 8.5l.94-2.06 2.06-.94-2.06-.94L8.5 2.5l-.94 2.06-2.06.94zm10 10l.94 2.06.94-2.06 2.06-.94-2.06-.94-.94-2.06-.94 2.06-2.06.94z\"/><path d=\"M17.41 7.96l-1.37-1.37c-.4-.4-.92-.59-1.43-.59-.52 0-1.04.2-1.43.59L10.3 9.45l-7.72 7.72c-.78.78-.78 2.05 0 2.83L4 21.41c.39.39.9.59 1.41.59.51 0 1.02-.2 1.41-.59l7.78-7.78 2.81-2.81c.8-.78.8-2.07 0-2.86zM5.41 20L4 18.59l7.72-7.72 1.47 1.35L5.41 20z\"/>\n",
              "  </svg>\n",
              "      </button>\n",
              "      \n",
              "  <style>\n",
              "    .colab-df-container {\n",
              "      display:flex;\n",
              "      flex-wrap:wrap;\n",
              "      gap: 12px;\n",
              "    }\n",
              "\n",
              "    .colab-df-convert {\n",
              "      background-color: #E8F0FE;\n",
              "      border: none;\n",
              "      border-radius: 50%;\n",
              "      cursor: pointer;\n",
              "      display: none;\n",
              "      fill: #1967D2;\n",
              "      height: 32px;\n",
              "      padding: 0 0 0 0;\n",
              "      width: 32px;\n",
              "    }\n",
              "\n",
              "    .colab-df-convert:hover {\n",
              "      background-color: #E2EBFA;\n",
              "      box-shadow: 0px 1px 2px rgba(60, 64, 67, 0.3), 0px 1px 3px 1px rgba(60, 64, 67, 0.15);\n",
              "      fill: #174EA6;\n",
              "    }\n",
              "\n",
              "    [theme=dark] .colab-df-convert {\n",
              "      background-color: #3B4455;\n",
              "      fill: #D2E3FC;\n",
              "    }\n",
              "\n",
              "    [theme=dark] .colab-df-convert:hover {\n",
              "      background-color: #434B5C;\n",
              "      box-shadow: 0px 1px 3px 1px rgba(0, 0, 0, 0.15);\n",
              "      filter: drop-shadow(0px 1px 2px rgba(0, 0, 0, 0.3));\n",
              "      fill: #FFFFFF;\n",
              "    }\n",
              "  </style>\n",
              "\n",
              "      <script>\n",
              "        const buttonEl =\n",
              "          document.querySelector('#df-5c2f6c4a-edfb-43fd-9149-5fb4902c324e button.colab-df-convert');\n",
              "        buttonEl.style.display =\n",
              "          google.colab.kernel.accessAllowed ? 'block' : 'none';\n",
              "\n",
              "        async function convertToInteractive(key) {\n",
              "          const element = document.querySelector('#df-5c2f6c4a-edfb-43fd-9149-5fb4902c324e');\n",
              "          const dataTable =\n",
              "            await google.colab.kernel.invokeFunction('convertToInteractive',\n",
              "                                                     [key], {});\n",
              "          if (!dataTable) return;\n",
              "\n",
              "          const docLinkHtml = 'Like what you see? Visit the ' +\n",
              "            '<a target=\"_blank\" href=https://colab.research.google.com/notebooks/data_table.ipynb>data table notebook</a>'\n",
              "            + ' to learn more about interactive tables.';\n",
              "          element.innerHTML = '';\n",
              "          dataTable['output_type'] = 'display_data';\n",
              "          await google.colab.output.renderOutput(dataTable, element);\n",
              "          const docLink = document.createElement('div');\n",
              "          docLink.innerHTML = docLinkHtml;\n",
              "          element.appendChild(docLink);\n",
              "        }\n",
              "      </script>\n",
              "    </div>\n",
              "  </div>\n",
              "  "
            ]
          },
          "metadata": {},
          "execution_count": 8
        }
      ]
    },
    {
      "cell_type": "code",
      "source": [
        "print(\"Shape of data (samples, features): \",train_data.shape)\n"
      ],
      "metadata": {
        "id": "tWXrztsH5Qtp",
        "outputId": "bc4f5c94-140b-4444-d50a-3602f26fc179",
        "colab": {
          "base_uri": "https://localhost:8080/"
        }
      },
      "execution_count": null,
      "outputs": [
        {
          "output_type": "stream",
          "name": "stdout",
          "text": [
            "Shape of data (samples, features):  (12528, 9)\n"
          ]
        }
      ]
    },
    {
      "cell_type": "code",
      "source": [
        "train_data.info()\n"
      ],
      "metadata": {
        "id": "Vaq688Rh5TBd",
        "outputId": "3e2e1a11-4db9-45e9-ed10-1c7cbce895ed",
        "colab": {
          "base_uri": "https://localhost:8080/"
        }
      },
      "execution_count": null,
      "outputs": [
        {
          "output_type": "stream",
          "name": "stdout",
          "text": [
            "<class 'pandas.core.frame.DataFrame'>\n",
            "RangeIndex: 12528 entries, 0 to 12527\n",
            "Data columns (total 9 columns):\n",
            " #   Column                                         Non-Null Count  Dtype  \n",
            "---  ------                                         --------------  -----  \n",
            " 0    Mean of the integrated profile                12528 non-null  float64\n",
            " 1    Standard deviation of the integrated profile  12528 non-null  float64\n",
            " 2    Excess kurtosis of the integrated profile     10793 non-null  float64\n",
            " 3    Skewness of the integrated profile            12528 non-null  float64\n",
            " 4    Mean of the DM-SNR curve                      12528 non-null  float64\n",
            " 5    Standard deviation of the DM-SNR curve        11350 non-null  float64\n",
            " 6    Excess kurtosis of the DM-SNR curve           12528 non-null  float64\n",
            " 7    Skewness of the DM-SNR curve                  11903 non-null  float64\n",
            " 8   target_class                                   12528 non-null  float64\n",
            "dtypes: float64(9)\n",
            "memory usage: 881.0 KB\n"
          ]
        }
      ]
    },
    {
      "cell_type": "code",
      "source": [
        "train_data.isnull().sum()\n"
      ],
      "metadata": {
        "id": "bgg_p8IN5Vv1",
        "outputId": "0cbc205b-7f6b-47a2-a3ee-540f74b172b6",
        "colab": {
          "base_uri": "https://localhost:8080/"
        }
      },
      "execution_count": null,
      "outputs": [
        {
          "output_type": "execute_result",
          "data": {
            "text/plain": [
              " Mean of the integrated profile                     0\n",
              " Standard deviation of the integrated profile       0\n",
              " Excess kurtosis of the integrated profile       1735\n",
              " Skewness of the integrated profile                 0\n",
              " Mean of the DM-SNR curve                           0\n",
              " Standard deviation of the DM-SNR curve          1178\n",
              " Excess kurtosis of the DM-SNR curve                0\n",
              " Skewness of the DM-SNR curve                     625\n",
              "target_class                                        0\n",
              "dtype: int64"
            ]
          },
          "metadata": {},
          "execution_count": 11
        }
      ]
    },
    {
      "cell_type": "markdown",
      "source": [
        "Missing values in:\n",
        "\n",
        "Excess kurtosis of the integrated profile\n",
        "Standard deviation of the DM-SNR curve\n",
        "Skewness of the DM-SNR curve"
      ],
      "metadata": {
        "id": "7ZIKWpQ05dBr"
      }
    },
    {
      "cell_type": "code",
      "source": [
        "import matplotlib.pyplot as plt\n",
        "\n",
        "train_data.plot(kind = \"box\" , subplots = True , figsize = (18,15) ,  layout = (4,3))\n",
        "plt.show()"
      ],
      "metadata": {
        "id": "6lsg_swi5XhK",
        "outputId": "1b0977d2-02e6-4bc6-cc05-02f69dcd5b2b",
        "colab": {
          "base_uri": "https://localhost:8080/",
          "height": 651
        }
      },
      "execution_count": null,
      "outputs": [
        {
          "output_type": "display_data",
          "data": {
            "text/plain": [
              "<Figure size 1296x1080 with 12 Axes>"
            ],
            "image/png": "[encoded data removed]"
          },
          "metadata": {
            "needs_background": "light"
          }
        }
      ]
    },
    {
      "cell_type": "markdown",
      "source": [
        "Outliers need to be handled \n"
      ],
      "metadata": {
        "id": "Ex_U7Du551BF"
      }
    },
    {
      "cell_type": "code",
      "source": [
        "train_data['target_class'].value_counts()\n"
      ],
      "metadata": {
        "id": "7RNjXamb50tX",
        "outputId": "dd2450da-453c-4101-d397-ef4383113b6a",
        "colab": {
          "base_uri": "https://localhost:8080/"
        }
      },
      "execution_count": null,
      "outputs": [
        {
          "output_type": "execute_result",
          "data": {
            "text/plain": [
              "0.0    11375\n",
              "1.0     1153\n",
              "Name: target_class, dtype: int64"
            ]
          },
          "metadata": {},
          "execution_count": 14
        }
      ]
    },
    {
      "cell_type": "markdown",
      "source": [
        "Data is imbalanced with approx 90% 10% spread of target class\n"
      ],
      "metadata": {
        "id": "N6vGZFjV6J9Y"
      }
    },
    {
      "cell_type": "markdown",
      "source": [
        "Remove duplicates if any first "
      ],
      "metadata": {
        "id": "9kAiX4EL6R9I"
      }
    },
    {
      "cell_type": "code",
      "source": [
        "len(train_data)-len(train_data.drop_duplicates())\n"
      ],
      "metadata": {
        "id": "KrJbz4SQ6Fjl",
        "outputId": "fc448282-9bb7-4c08-df1b-3f30698bea44",
        "colab": {
          "base_uri": "https://localhost:8080/"
        }
      },
      "execution_count": null,
      "outputs": [
        {
          "output_type": "execute_result",
          "data": {
            "text/plain": [
              "0"
            ]
          },
          "metadata": {},
          "execution_count": 15
        }
      ]
    },
    {
      "cell_type": "markdown",
      "source": [
        "Handle null values first "
      ],
      "metadata": {
        "id": "faBYobom6XY3"
      }
    },
    {
      "cell_type": "code",
      "source": [
        "from sklearn.neighbors import KNeighborsRegressor\n",
        "\n",
        "# function that imputes a dataframe \n",
        "def impute_knn(data):\n",
        "    # imputation with KNN unsupervised method\n",
        "    # separate dataframe into numerical/categorical\n",
        "    ldf = data.select_dtypes(include=[np.number])           # select numerical columns in df\n",
        "    ldf_putaside = data.select_dtypes(exclude=[np.number])  # select categorical columns in df\n",
        "    # define columns w/ and w/o missing data\n",
        "    cols_nan = ldf.columns[ldf.isna().any()].tolist()         # columns w/ nan \n",
        "    cols_no_nan = ldf.columns.difference(cols_nan).values     # columns w/o nan \n",
        "\n",
        "    for col in cols_nan:                \n",
        "        imp_test = ldf[ldf[col].isna()]   # indicies which have missing data will become our test set\n",
        "        imp_train = ldf.dropna()          # all indicies which which have no missing data \n",
        "        model = KNeighborsRegressor(n_neighbors=5)  # KNR Unsupervised Approach\n",
        "        knr = model.fit(imp_train[cols_no_nan], imp_train[col])\n",
        "        ldf.loc[data[col].isna(), col] = knr.predict(imp_test[cols_no_nan])\n",
        "    \n",
        "    return pd.concat([ldf,ldf_putaside],axis=1)"
      ],
      "metadata": {
        "id": "7-KbbAWL6VjB"
      },
      "execution_count": null,
      "outputs": []
    },
    {
      "cell_type": "code",
      "source": [
        "import numpy as np \n",
        "# Call function that imputes missing data\n",
        "new_train_data = impute_knn(train_data)\n",
        "# looks like we have a full feature matrix\n",
        "new_train_data.info()"
      ],
      "metadata": {
        "id": "7XLJjfV36mFs",
        "outputId": "5bd97664-2d75-4946-e38f-610e02a2b418",
        "colab": {
          "base_uri": "https://localhost:8080/"
        }
      },
      "execution_count": null,
      "outputs": [
        {
          "output_type": "stream",
          "name": "stdout",
          "text": [
            "<class 'pandas.core.frame.DataFrame'>\n",
            "RangeIndex: 12528 entries, 0 to 12527\n",
            "Data columns (total 9 columns):\n",
            " #   Column                                         Non-Null Count  Dtype  \n",
            "---  ------                                         --------------  -----  \n",
            " 0    Mean of the integrated profile                12528 non-null  float64\n",
            " 1    Standard deviation of the integrated profile  12528 non-null  float64\n",
            " 2    Excess kurtosis of the integrated profile     12528 non-null  float64\n",
            " 3    Skewness of the integrated profile            12528 non-null  float64\n",
            " 4    Mean of the DM-SNR curve                      12528 non-null  float64\n",
            " 5    Standard deviation of the DM-SNR curve        12528 non-null  float64\n",
            " 6    Excess kurtosis of the DM-SNR curve           12528 non-null  float64\n",
            " 7    Skewness of the DM-SNR curve                  12528 non-null  float64\n",
            " 8   target_class                                   12528 non-null  float64\n",
            "dtypes: float64(9)\n",
            "memory usage: 881.0 KB\n"
          ]
        }
      ]
    },
    {
      "cell_type": "code",
      "source": [
        "new_train_data.isnull().sum()\n"
      ],
      "metadata": {
        "id": "rYpf-UHe6sV6",
        "outputId": "c293f54a-3669-4bdd-8a4a-34f4d64a61d4",
        "colab": {
          "base_uri": "https://localhost:8080/"
        }
      },
      "execution_count": null,
      "outputs": [
        {
          "output_type": "execute_result",
          "data": {
            "text/plain": [
              " Mean of the integrated profile                  0\n",
              " Standard deviation of the integrated profile    0\n",
              " Excess kurtosis of the integrated profile       0\n",
              " Skewness of the integrated profile              0\n",
              " Mean of the DM-SNR curve                        0\n",
              " Standard deviation of the DM-SNR curve          0\n",
              " Excess kurtosis of the DM-SNR curve             0\n",
              " Skewness of the DM-SNR curve                    0\n",
              "target_class                                     0\n",
              "dtype: int64"
            ]
          },
          "metadata": {},
          "execution_count": 19
        }
      ]
    },
    {
      "cell_type": "markdown",
      "source": [
        "Now lets handle outliers using interquartiles \n"
      ],
      "metadata": {
        "id": "Mgt_uspV6xDF"
      }
    },
    {
      "cell_type": "code",
      "source": [
        "# Outliers using the IQR methode\n",
        "def iqr_capping (data, coloumns, factor): # Factor = 1.5\n",
        "        \n",
        "    for col in coloumns:\n",
        "        \n",
        "        Q1 = data[col].quantile(0.25)\n",
        "        Q3 = data[col].quantile(0.75)\n",
        "        \n",
        "        IQR = Q3 - Q1\n",
        "        \n",
        "        upper_bound = Q3 + (factor * IQR)\n",
        "        lower_bound = Q1 - (factor * IQR)\n",
        "\n",
        "        data[col]=np.where(data[col]>upper_bound, upper_bound,\n",
        "                       np.where(data[col]<lower_bound, lower_bound, data[col]))"
      ],
      "metadata": {
        "id": "ZAubfZs36vYO"
      },
      "execution_count": null,
      "outputs": []
    },
    {
      "cell_type": "code",
      "source": [
        "outliers = np.unique(iqr_capping(new_train_data, new_train_data.loc[:,:' Skewness of the DM-SNR curve'].columns , 1.5))\n"
      ],
      "metadata": {
        "id": "tj2_1k6C632l"
      },
      "execution_count": null,
      "outputs": []
    },
    {
      "cell_type": "code",
      "source": [
        "new_train_data.info()\n"
      ],
      "metadata": {
        "id": "lqGKfYzX66FI",
        "outputId": "72d1e1ce-68b7-41b4-c4d8-cd8cb3f00ab3",
        "colab": {
          "base_uri": "https://localhost:8080/"
        }
      },
      "execution_count": null,
      "outputs": [
        {
          "output_type": "stream",
          "name": "stdout",
          "text": [
            "<class 'pandas.core.frame.DataFrame'>\n",
            "RangeIndex: 12528 entries, 0 to 12527\n",
            "Data columns (total 9 columns):\n",
            " #   Column                                         Non-Null Count  Dtype  \n",
            "---  ------                                         --------------  -----  \n",
            " 0    Mean of the integrated profile                12528 non-null  float64\n",
            " 1    Standard deviation of the integrated profile  12528 non-null  float64\n",
            " 2    Excess kurtosis of the integrated profile     12528 non-null  float64\n",
            " 3    Skewness of the integrated profile            12528 non-null  float64\n",
            " 4    Mean of the DM-SNR curve                      12528 non-null  float64\n",
            " 5    Standard deviation of the DM-SNR curve        12528 non-null  float64\n",
            " 6    Excess kurtosis of the DM-SNR curve           12528 non-null  float64\n",
            " 7    Skewness of the DM-SNR curve                  12528 non-null  float64\n",
            " 8   target_class                                   12528 non-null  float64\n",
            "dtypes: float64(9)\n",
            "memory usage: 881.0 KB\n"
          ]
        }
      ]
    },
    {
      "cell_type": "code",
      "source": [
        "new_train_data.plot(kind = \"box\" , subplots = True , figsize = (18,15) ,  layout = (4,3))\n",
        "plt.show()"
      ],
      "metadata": {
        "id": "KzQZteJI68xe",
        "outputId": "803a53f6-44f0-4383-aa23-90b8acb3dac0",
        "colab": {
          "base_uri": "https://localhost:8080/",
          "height": 653
        }
      },
      "execution_count": null,
      "outputs": [
        {
          "output_type": "display_data",
          "data": {
            "text/plain": [
              "<Figure size 1296x1080 with 12 Axes>"
            ],
            "image/png": "[encoded data removed]"
          },
          "metadata": {
            "needs_background": "light"
          }
        }
      ]
    },
    {
      "cell_type": "markdown",
      "source": [
        "Now lets handle imbalance "
      ],
      "metadata": {
        "id": "eBmfsrMX7PYW"
      }
    },
    {
      "cell_type": "code",
      "source": [
        "from imblearn.over_sampling import SMOTE \n"
      ],
      "metadata": {
        "id": "0sEhPrgT7LAB"
      },
      "execution_count": null,
      "outputs": []
    },
    {
      "cell_type": "code",
      "source": [
        "x= new_train_data.drop('target_class', axis = 1).values\n",
        "y=new_train_data['target_class'].values\n",
        "y.shape"
      ],
      "metadata": {
        "id": "hLNguTGs7YjY",
        "outputId": "b889257a-292e-4e66-c2e3-f7271149e448",
        "colab": {
          "base_uri": "https://localhost:8080/"
        }
      },
      "execution_count": null,
      "outputs": [
        {
          "output_type": "execute_result",
          "data": {
            "text/plain": [
              "(12528,)"
            ]
          },
          "metadata": {},
          "execution_count": 26
        }
      ]
    },
    {
      "cell_type": "code",
      "source": [
        "sm = SMOTE( random_state=42)\n",
        "x_resampled, y_resampled = sm.fit_resample(x,y)"
      ],
      "metadata": {
        "id": "hu7WREqG7Tx0"
      },
      "execution_count": null,
      "outputs": []
    },
    {
      "cell_type": "code",
      "source": [
        "y_resampled_pd = pd.DataFrame(data=y_resampled)\n",
        "ax = y_resampled_pd.value_counts().plot.pie(autopct = '%.2f%%')\n",
        "_ = ax.set_title(\"After resampling\")"
      ],
      "metadata": {
        "id": "7JjwVIiX7aW-",
        "outputId": "a77154ad-a98f-4b87-aac0-2913ec4b254c",
        "colab": {
          "base_uri": "https://localhost:8080/",
          "height": 264
        }
      },
      "execution_count": null,
      "outputs": [
        {
          "output_type": "display_data",
          "data": {
            "text/plain": [
              "<Figure size 432x288 with 1 Axes>"
            ],
            "image/png": "[encoded data removed]"
          },
          "metadata": {}
        }
      ]
    },
    {
      "cell_type": "code",
      "source": [
        "from sklearn.model_selection import train_test_split\n",
        "X_train,X_test,y_train,y_test = train_test_split(x_resampled,y_resampled, test_size=0.20 , random_state=42)"
      ],
      "metadata": {
        "id": "vMec8p3I7gOX"
      },
      "execution_count": null,
      "outputs": []
    },
    {
      "cell_type": "code",
      "source": [
        "from sklearn.preprocessing import StandardScaler\n",
        "sc = StandardScaler()\n"
      ],
      "metadata": {
        "id": "ba5Tm73k7iZ7"
      },
      "execution_count": null,
      "outputs": []
    },
    {
      "cell_type": "code",
      "source": [
        "X_train_scaled = sc.fit_transform(X_train)\n",
        "X_test_scaled = sc.fit_transform(X_test)"
      ],
      "metadata": {
        "id": "qLiUok_67jP6"
      },
      "execution_count": null,
      "outputs": []
    },
    {
      "cell_type": "code",
      "source": [
        "from sklearn.metrics import accuracy_score\n",
        "\n",
        "svm_rbf = SVC(kernel='rbf')\n",
        "svm_rbf.fit(X_train_scaled, y_train)\n",
        "svm_rbf_pred = svm_rbf.predict(X_test_scaled)\n",
        "print('Accuracy Score of Super Vector Machine, RBF kernel: ', accuracy_score(y_test, svm_rbf_pred))\n"
      ],
      "metadata": {
        "id": "6tUITl6P7my8",
        "outputId": "ee3a8413-f8f3-4baf-c6c0-ff20951893f6",
        "colab": {
          "base_uri": "https://localhost:8080/"
        }
      },
      "execution_count": null,
      "outputs": [
        {
          "output_type": "stream",
          "name": "stdout",
          "text": [
            "Accuracy Score of Super Vector Machine, RBF kernel:  0.9474725274725275\n"
          ]
        }
      ]
    },
    {
      "cell_type": "code",
      "source": [
        "from sklearn.metrics import classification_report\n",
        "print(classification_report(y_test, svm_rbf_pred))"
      ],
      "metadata": {
        "id": "yg7X8K4A7nqo",
        "outputId": "d6f1bb7f-3c4f-4ad0-aa40-f373ef78d912",
        "colab": {
          "base_uri": "https://localhost:8080/"
        }
      },
      "execution_count": null,
      "outputs": [
        {
          "output_type": "stream",
          "name": "stdout",
          "text": [
            "              precision    recall  f1-score   support\n",
            "\n",
            "         0.0       0.93      0.97      0.95      2305\n",
            "         1.0       0.97      0.92      0.95      2245\n",
            "\n",
            "    accuracy                           0.95      4550\n",
            "   macro avg       0.95      0.95      0.95      4550\n",
            "weighted avg       0.95      0.95      0.95      4550\n",
            "\n"
          ]
        }
      ]
    },
    {
      "cell_type": "code",
      "source": [
        "svm_linear= SVC(kernel='linear')\n",
        "svm_linear.fit(X_train_scaled, y_train)\n",
        "svm_linear_pred = svm_linear.predict(X_test_scaled)\n",
        "print('Accuracy Score of Super Vector Machine, Linear kernel: ', accuracy_score(y_test, svm_linear_pred))"
      ],
      "metadata": {
        "id": "C3C2yx4070u1",
        "outputId": "ba5b1a0f-4863-48b6-e4cf-9743261f7cfb",
        "colab": {
          "base_uri": "https://localhost:8080/"
        }
      },
      "execution_count": null,
      "outputs": [
        {
          "output_type": "stream",
          "name": "stdout",
          "text": [
            "Accuracy Score of Super Vector Machine, Linear kernel:  0.9404395604395605\n"
          ]
        }
      ]
    },
    {
      "cell_type": "code",
      "source": [
        "print(classification_report(y_test, svm_linear_pred))\n"
      ],
      "metadata": {
        "id": "HOKLReLt73bu",
        "outputId": "2c7c54ce-8f98-4645-b963-d12161b96ed6",
        "colab": {
          "base_uri": "https://localhost:8080/"
        }
      },
      "execution_count": null,
      "outputs": [
        {
          "output_type": "stream",
          "name": "stdout",
          "text": [
            "              precision    recall  f1-score   support\n",
            "\n",
            "         0.0       0.92      0.96      0.94      2305\n",
            "         1.0       0.96      0.92      0.94      2245\n",
            "\n",
            "    accuracy                           0.94      4550\n",
            "   macro avg       0.94      0.94      0.94      4550\n",
            "weighted avg       0.94      0.94      0.94      4550\n",
            "\n"
          ]
        }
      ]
    },
    {
      "cell_type": "markdown",
      "source": [
        "Conclusion - I understood the concept of Support Vector Machines and applied 3 types of kernels namely linear, poly, rbf.\n",
        "I found that for data that is linearly separable, the linear kernel works the best. This is particularly useful when there is a large amount of data that is linearly separable as other kernels are not as fast as linear kernel.\n",
        "For the data that is not linearly seperable, the radial basis function kernel worked better than the polynomial kernel. The polynomial kernel map the data into higher dimensional space and then applies linear svm.\n",
        "Final Accuracies of the kernels were: 71% for polynomial kernel and 86% for RBF kernel.Also, I applied SVM on a pulsar dataset. Prepocessing steps of outlier detection and removal and minority sampling was perfomed and I observed that once again the accuracy of RBF kernel performed the best."
      ],
      "metadata": {
        "id": "pUY04g_Kqb4D"
      }
    }
  ],
  "metadata": {
    "colab": {
      "collapsed_sections": [],
      "name": "DS-Exp8.ipynb",
      "provenance": []
    },
    "kernelspec": {
      "display_name": "Python 3",
      "name": "python3"
    },
    "language_info": {
      "name": "python"
    }
  },
  "nbformat": 4,
  "nbformat_minor": 0
}